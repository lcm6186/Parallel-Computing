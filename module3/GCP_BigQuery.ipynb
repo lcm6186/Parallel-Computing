{
 "cells": [
  {
   "cell_type": "markdown",
   "metadata": {},
   "source": [
    "# Part 1 - GCP BigQuery\n",
    "\n",
    "\n",
    "## <span style='background:yellow'> Please keep in mind that this is just part 1 of the module, and you have another half. \n",
    "Do not spend more than 5 hours on your GCP Exercise!</span>\n",
    "\n",
    "Come back to it later if you have more time or after the course is completed.\n",
    "\n",
    "## Please Bookmark the User Guide\n",
    "[BigQuery USER GUIDE](https://cloud.google.com/bigquery/docs/introduction)\n",
    "\n",
    "From the user guide:\n",
    "\n",
    "## `What is BigQuery?`\n",
    ">  BigQuery is a fully managed enterprise data warehouse that helps you manage and analyze your data with built-in features like machine learning, geospatial analysis, and business intelligence. BigQuery's serverless architecture lets you use SQL queries to answer your organization's biggest questions with zero infrastructure management. BigQuery's scalable, distributed analysis engine lets you query terabytes in seconds and petabytes in minutes."
   ]
  },
  {
   "cell_type": "markdown",
   "metadata": {},
   "source": [
    "## Videos\n",
    "\n",
    "To get a little taste of GCP Big Query, please watch the first short video.\n",
    " * Overview (3 min): https://youtu.be/m8WqxLd1jSc\n",
    " * Quick Intro (5min) : https://youtu.be/d3MDxC_iuaw\n",
    "\n",
    "Suggested Viewings\n",
    " * Big Data Analytics with Big Query (30 min): https://youtu.be/qqbYrQGSibQ\n",
    " * Data Warehouse with Big Query (43 min): https://youtu.be/ZVgt1-LfWW4\n",
    " * BigQuery Connector for Excel (7 min): https://youtu.be/udZNmb3QFQI\n",
    " * BigQuery ML in a Minute (2 min): https://youtu.be/0RMT8uEplbM"
   ]
  },
  {
   "cell_type": "markdown",
   "metadata": {},
   "source": []
  },
  {
   "cell_type": "markdown",
   "metadata": {},
   "source": [
    "## Setup (Lab)\n",
    "\n",
    "Remember to access GCP through our special IAM portal.  See [GCP Getting Started](https://europa.dsa.missouri.edu/user/tpgd5/notebooks/ParallelProgrammingAnalytics/module1/practices/GCP_Getting_Started.ipynb) for details.\n",
    "\n",
    "### After sign on, click on BigQuery under Resources panel\n",
    "![BigQuery_Starting.png MISSING](./images/BigQuery_Starting.png)\n",
    "\n",
    "### It will take you to the BigQuery console. Make sure the intended project is selected.\n",
    "![BigQuery_CheckProject.png MISSING](./images/BigQuery_CheckProject.png)"
   ]
  },
  {
   "attachments": {
    "save%20result.png": {
     "image/png": "[encoded data removed]"
    }
   },
   "cell_type": "markdown",
   "metadata": {},
   "source": [
    "## Practices and Tutorials\n",
    "\n",
    "The practices for this sub-module involve following some of the select tutorials from the User Guide.\n",
    "We then ask you to do a few extra steps to practice your data science skills.\n",
    "\n",
    "For each practice, ensure your artifacts are properly linked into this notebook or uploaded in the appropriate location.\n",
    "\n",
    "### Tutorial 1\n",
    "In this tutorial, first, you will learn:\n",
    "\n",
    "a) how to query a public dataset.\n",
    "\n",
    "b) how to create a new dataset and then query it.\n",
    "\n",
    "\n",
    "**Remember to use your SSO as a prefix for any resources you create, such as `scottgs_babynames`**\n",
    "\n",
    "#### Hint: You will need to adapt your following of the tutorial to account for using the SSO prefix!\n",
    "\n",
    "\n",
    "### Practice 1. [Create and Query a Dataset](https://cloud.google.com/bigquery/docs/quickstarts/quickstart-cloud-console?utm_source=youtube&utm_medium=Unpaidsocial&utm_campaign=ore-20200513-Using-Sandbox#query_a_public_dataset)\n",
    "\n",
    "#### Estimated Tutorial Time: <span style='color:blue'>approximately 25-35 minutes</span>\n",
    "\n",
    "**Note** Wait to delete the dataset / table you create until after you complete all the practice 1 aspects, as some are extra DSA elements.\n",
    "\n",
    "#### Artifacts Notes:\n",
    "\n",
    "1. When the tutorial for Top-5 Male names query is completed, click SAVE RESULTS and from the drop down select CSV (local file)\n",
    "![save%20result.png](attachment:save%20result.png)\n",
    "2. Rename the results of the Top 5 male baby names from 2014 as `practice1a.csv`  and upload to the `module3/practices` folder.\n",
    "\n",
    "#### Practice Task, and Artifact 1B.\n",
    "\n",
    "1. Write a query that generates the Top-10 female names that start with `X`\n",
    "2. Rename the results of the 10 female names that start with `X` as `practice1b.csv`  and upload to the `module3/practices` folder.\n",
    "\n",
    "#### Practice Task, and Artifact 1C.\n",
    "\n",
    "1. Write a query that generates the count of names that start with each letter, distinct for Male and Female.\n",
    " * Order this by the highest to lowest count, then by start letter.\n",
    " * Limit this to the top 20 results.\n",
    "2. Rename the results of this query as `practice1c.csv`  and upload to the `module3/practices` folder.\n",
    "\n",
    "**Note** The expected results should be look like:\n",
    "![BigQuery_Practice_1c.png MISSING](./images/BigQuery_Practice_1c.png)\n",
    "\n",
    "---\n",
    "\n",
    "#### <span style='background: yellow'>Remember to delete your table and dataset once you are done with the practices!</span>"
   ]
  },
  {
   "cell_type": "markdown",
   "metadata": {},
   "source": [
    "### Tutorial 2\n",
    "\n",
    "#### Reading (<span style='color:blue'>approximately 30 minutes</span>)\n",
    "You need to have a look at the following material to have basic concept of BigQuery ML\n",
    "\n",
    " * [What is BigQuery ML](https://cloud.google.com/bigquery-ml/docs/introduction#:~:text=BigQuery%20ML%20lets%20you%20create,the%20need%20to%20move%20data.)\n",
    "\n",
    "\n",
    "\n",
    "As you work through this practice, please try to keep in mind the concepts you have learned in Stat/Math and Applied Machine Learning first year courses. \n",
    "Make sure that you go through at least:\n",
    " * [Create MODEL syntax for Linear regression and Binary Logistic regression](https://cloud.google.com/bigquery-ml/docs/reference/standard-sql/bigqueryml-syntax-create-glm)\n",
    " * [ML.EVALUATE syntax](https://cloud.google.com/bigquery-ml/docs/reference/standard-sql/bigqueryml-syntax-evaluate)\n",
    " * [ML.PREDICT syntax](https://cloud.google.com/bigquery-ml/docs/reference/standard-sql/bigqueryml-syntax-predict) \n",
    " \n",
    "These are required for the next practice and the exercise!\n",
    "\n",
    "### Practice 2. [Creating a Regression Model using BigQuery ML ](https://cloud.google.com/bigquery-ml/docs/linear-regression-tutorial)\n",
    "\n",
    "#### Estimated Tutorial Time: <span style='color:blue'>approximately 25-30 minutes</span>\n",
    "\n",
    "**Reminder: <span style='background:yellow'>Prefix your SSO to resources you create</span>, such as `scottgs_bqml_tutorial.penguins_model` and adapt to the tutorial appropriately**\n",
    "\n",
    "#### Artifacts Notes:\n",
    "\n",
    "\n",
    "1. Upload the ML.PREDICT query (Step 5) result to the `practices` folder in practice2.csv file\n",
    "2. In the cell below, list the feature and the Shapely values (from Step 7)\n"
   ]
  },
  {
   "cell_type": "raw",
   "metadata": {},
   "source": [
    "# Paste the Global Explain features and attribution below this line\n",
    "\n",
    "island             - 6273.33\n",
    "sex                - 4727.23\n",
    "species            - 572.29\n",
    "flipper_length_mm  - 193.61\n",
    "culmen_depth_mm    - 117.09\n",
    "culmen_length_mm   - 94.37\n",
    "\n",
    "\n",
    "\n",
    "\n"
   ]
  },
  {
   "cell_type": "markdown",
   "metadata": {},
   "source": [
    "---\n",
    "\n",
    "## Exercise\n",
    "\n",
    "### Creating a Classification Model using BigQuery ML\n",
    "#### Estimated Tutorial Time: <span style='color:blue'>approximately 60 minutes</span>\n",
    "#### Instructions:\n",
    "##### Part A\n",
    "1. Use the BigQuery public data `google_analytics_sample` of `ga_Sessions_20170630`. The description of the data set can be found [HERE](https://support.google.com/analytics/answer/7586738?hl=en#where-the-data-comes-from&zippy=%2Cin-this-article).  Please read about the data set.\n",
    "2. Write an analytical query to generate a listing of Operating System, Country, and Total Page Views, for mobile devices only. The result should be in order of highest total page views, then country, and operating system. Limit your results to 1000 rows.\n",
    " * In the cell below, pease share the query elapsed time.\n",
    " * Export the results as `exerciseA.csv` and upload to the exercises folder.\n",
    " \n",
    "**Example _Partial_ Query Result**\n",
    "![BigQuery_Exercise_A.png MISSING](./images/BigQuery_Exercise_A.png)"
   ]
  },
  {
   "cell_type": "raw",
   "metadata": {},
   "source": [
    "# Exercise, Part A timing below this line\n",
    "\n",
    "Query time = 0.4 seconds elapsed\n"
   ]
  },
  {
   "cell_type": "raw",
   "metadata": {},
   "source": [
    "## Query\n",
    "\n",
    "#standardSQL\n",
    "CREATE OR REPLACE MODEL `lcmhng_ga_sessions_20170801.ga_sessions`\n",
    "OPTIONS\n",
    "  (model_type='logistic_reg',\n",
    "  input_label_cols=['totalTransactions']) AS\n",
    "\n",
    "SELECT \n",
    "\n",
    "    IFNULL(device.operatingSystem, '') AS deviceOS,\n",
    "    IFNULL(geoNetwork.country, '') AS geoCountry,\n",
    "    device.isMobile,\n",
    "    IFNULL(totals.pageviews, 0) AS totalPageviews,\n",
    "    CASE WHEN totals.transactions IS NULL THEN 0 ELSE 1 END AS totalTransactions\n",
    "\n",
    "FROM \n",
    "\n",
    "`bigquery-public-data.google_analytics_sample.ga_sessions_20170801` \n"
   ]
  },
  {
   "cell_type": "markdown",
   "metadata": {},
   "source": [
    "\n",
    "##### Part B\n",
    "3. Create a Logistic Regression model that will predict whether or not any transaction took place.\n",
    "4. The model will predict based on _device operating system_, whether the _device was mobile or not_, _geoNetwork country_ and _pageviews_.\n",
    "5. Before creating the model: \n",
    "    - convert all the NULL values of totals.transaction to 0, and other values as 1.\n",
    "    - convert all the NULL values of device.operatingSystem and geoNetwork.country to blank.\n",
    "    - converty all the NULL values of total.pageviews to 0.\n",
    "    \n",
    "#### Artifacts Notes:\n",
    "   - Upload the ML.TRAINING_INFO and ML.EVALUATE query result to the `exercises` folder as `exercise1a.csv` and `exercise1b.csv` files, respectively.\n",
    "\n",
    "\n",
    "\n",
    "### Final Thoughts: For further reading and learning, as your time permits, check out the [BigQuery ML Model Journeys](https://cloud.google.com/bigquery-ml/docs/reference/standard-sql/bigqueryml-syntax-e2e-journey)\n"
   ]
  },
  {
   "cell_type": "markdown",
   "metadata": {},
   "source": [
    "## Submitting your work\n",
    "\n",
    "#### Steps:\n",
    "  1. Open Terminal in JupyterHub\n",
    "  1. Change into the course folder\n",
    "  1. Stage (Git Add) the module's learning activities   \n",
    "  `git  add   module3`\n",
    "  1. Create your work snapshot (Git Commit)  \n",
    "  `git   commit   -m   \"Module 3 GCP BigQuery\"`\n",
    "  1. Upload the snapshot to the server (Git Push)  \n",
    "  `git   push`"
   ]
  }
 ],
 "metadata": {
  "kernelspec": {
   "display_name": "Python 3",
   "language": "python",
   "name": "python3"
  },
  "language_info": {
   "codemirror_mode": {
    "name": "ipython",
    "version": 3
   },
   "file_extension": ".py",
   "mimetype": "text/x-python",
   "name": "python",
   "nbconvert_exporter": "python",
   "pygments_lexer": "ipython3",
   "version": "3.7.3"
  }
 },
 "nbformat": 4,
 "nbformat_minor": 2
}
