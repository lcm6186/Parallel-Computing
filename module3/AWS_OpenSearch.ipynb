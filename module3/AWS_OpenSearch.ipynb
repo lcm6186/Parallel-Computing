{
 "cells": [
  {
   "cell_type": "markdown",
   "metadata": {},
   "source": [
    "# Part 2 - AWS Open Search\n",
    "\n",
    "\n",
    "## <span style='background:yellow'> Please keep in mind that this is just part 2 of the module, balance your time with the nother half. \n",
    "\n",
    "## Plesase Bookmark the User Guide\n",
    "[Open Search USER GUIDE](https://docs.aws.amazon.com/opensearch-service/latest/developerguide/opensearch-service-dg.pdf)\n",
    "\n",
    "From the user guide:\n",
    "\n",
    "## `What is Amazon Open Search?`\n",
    "\n",
    "> Amazon OpenSearch Service (successor to Amazon Elasticsearch Service) is a managed service that\n",
    "makes it easy to deploy, operate, and scale OpenSearch clusters in the AWS Cloud. Amazon OpenSearch\n",
    "Service supports OpenSearch and legacy Elasticsearch OSS. When you create a cluster, you have the\n",
    "option of which search engine to use. OpenSearch Service offers broad compatibility with Elasticsearch\n",
    "OSS 7.10, the final open source version of the software.OpenSearch is a fully open-source search and analytics engine for use cases such as log analytics, real-time application monitoring, and clickstream analysis. OpenSearch Service provisions all the resources for your cluster and launches it. It also automatically detects and replaces failed OpenSearch Service nodes, reducing the overhead associated with self-managed infrastructures. You can scale your cluster with a single API call or a few clicks in the console."
   ]
  },
  {
   "cell_type": "markdown",
   "metadata": {},
   "source": [
    "## Videos\n",
    "\n",
    "To get a little taste of Amazon Open Search, please watch the first short videos.\n",
    "\n",
    " * Quick Intro to OpenSearch (2 minutes) - https://youtu.be/nlt0lnn11ts\n",
    " * Basic Tutorial on Elasticsearch (10 minutes) - https://youtu.be/ZP0NmfyfsoM\n",
    "\n",
    "If you feel you want more deep dives, I recommend watching these videos as your time permits.\n",
    " * What's New in Amazon OpenSearch (52 minutes) - https://youtu.be/y7cp_5Lv2A4\n",
    " * Amazon Elasticsearch Service Deep Dive (51 minutes) - https://youtu.be/SOTFnRezIH0\n"
   ]
  },
  {
   "cell_type": "markdown",
   "metadata": {},
   "source": [
    "## Reading\n",
    "To complete the Lab and Practice, you need to have a basic understanding of the following concepts.  \n",
    "(<span style='color:blue'>approximately 30 minutes</span>)\n",
    "\n",
    "### [Indexing Data](https://opensearch.org/docs/latest/opensearch/index-data/)\n",
    "### [AWS Lambda](https://docs.aws.amazon.com/lambda/latest/dg/welcome.html)\n",
    "### [API Gateway](https://docs.aws.amazon.com/apigateway/latest/developerguide/welcome.html)"
   ]
  },
  {
   "cell_type": "markdown",
   "metadata": {},
   "source": [
    "## Setup (Lab)\n",
    "\n",
    "Remember to access AWS through our special IAM portal.  See [AWS Getting Started](../module1/practices/AWS_Getting_Started.ipynb) for details.\n",
    "\n",
    "The practices for this sub-module involve following some of the select tutorials from the User Guide.\n",
    "\n",
    "### Tutorial 1 \n",
    "### [Create and Configure Service Domain (concise)](https://docs.aws.amazon.com/opensearch-service/latest/developerguide/opensearch-service-dg.pdf#gsg)\n",
    "\n",
    "**Note** as the Console Interface is constantly evolving, you will have to extrapolate and interpolate some instructions using your technical intution -- and maybe some Google -- to work through the activities.\n",
    "\n",
    "#### Estimated Tutorial Time: <span style='color:blue'>approximately 50 minutes</span>\n",
    "\n",
    "- **Create a domain**\n",
    " * Please carefully following the directions!\n",
    " * You may want to write down the master user and password you are creating!\n",
    "- **Upload data for indexing**\n",
    " * Use any command line environment for CURL commands, e.g., Europa Terminal, WSL, etc.\n",
    "   * My example endpoint: `https://search-scottgs-movies-ezsmqrqrvcteirvzjoz6u46r74.us-east-1.es.amazonaws.com/scottgs-movies` in place og the tutorial `domain-endpoint`\n",
    " * Ensure you read above material about API end-points and such, so that you are _translating_ tutorial instructions into proper commands!\n",
    " * Ensure you are prefixing the index in the JSON payload from \"movies\" to have your SSO-movies, so it matches the domain you created.\n",
    " * Did you see responses such as\n",
    "```\n",
    "{\"_index\":\"scottgs-movies\",\n",
    " \"_type\":\"_doc\",\n",
    " \"_id\":\"1\",\"_version\":1,\n",
    " \"result\":\"created\",\n",
    " \"_shards\":{\"total\":2,\"successful\":1,\"failed\":0},\n",
    " \"_seq_no\":0,\"_primary_term\":1}\n",
    "```\n",
    "**Bulk Loading notes**\n",
    "  * Here is an example command to bulk change a JSON file from \"movies\" to my SSO prefix. This does a _stream edit_ to, Inplace, Switch \"movies\" to \"scottgs-movies\", applied Globally.\n",
    "```\n",
    "sed -i -e 's/\"movies\"/\"scottgs-movies\"/g' bulk_movies.json\n",
    "```\n",
    " * If you are getting Malformed errors on the bulk loading, [check out this discussion](https://stackoverflow.com/questions/45792309/bulk-api-malformed-action-metadata-line-3-expected-start-object-but-found).\n",
    " * Bulk loading should give you a response similar to\n",
    "```\n",
    "{\"took\":94,\"errors\":false,\"items\":[{\"index\":{\"_index\":\"scottgs-movies\",\"_type\":\"_doc\",\"_id\":\"2\",\"_version\":1,\"result\":\"created\",\"_shards\":{\"total\":2,\"successful\":2,\"failed\":0},\"_seq_no\":0,\"_primary_term\":1,\"status\":201}},{\"index\":{\"_index\":\"scottgs-movies\",\"_type\":\"_doc\",\"_id\":\"3\",\"_version\":1,\"result\":\"created\",\"_shards\":{\"total\":2,\"successful\":2,\"failed\":0},\"_seq_no\":0,\"_primary_term\":1,\"status\":201}},{\"index\":{\"_index\":\"scottgs-movies\",\"_type\":\"_doc\",\"_id\":\"4\",\"_version\":1,\"result\":\"created\",\"_shards\":{\"total\":2,\"successful\":2,\"failed\":0},\"_seq_no\":0,\"_primary_term\":1,\"status\":201}}]}\n",
    "```\n",
    "- **Search documents**\n",
    " * Example URL and result with CURL\n",
    "``` \n",
    "    curl -XGET -u 'scottgs_os:scottgs+PW1' \\\n",
    "    'https://search-scottgs-movies-ezsmqrqrvcteirvzjoz6u46r74.us-east-1.es.amazonaws.com/scottgs-movies/_search?q=mars&pretty=true'\n",
    "\n",
    "    {\"took\" : 969, \"timed_out\" : false,\n",
    "    \"_shards\" : {\"total\" : 5,\"successful\" : 5, \"skipped\" : 0, \"failed\" : 0},\n",
    "    \"hits\" : {\"total\" : {\"value\" : 1,\"relation\" : \"eq\"},\"max_score\" : 0.2876821,\n",
    "    \"hits\" : [{\"_index\" : \"scottgs-movies\", \"_type\" : \"_doc\",\"_id\" : \"1\", \"_score\" : 0.2876821,\n",
    "    \"_source\" : {\"director\" : \"Burton, Tim\",\"genre\" : [\"Comedy\",\"Sci-Fi\"],\"year\" : 1996,\n",
    "    \"actor\" : [\"Jack  Nicholson\",\"Pierce Brosnan\",\"Sarah Jessica Parker\"],\n",
    "    \"title\" : \"Mars Attacks!\"}}]}}                     \n",
    "```\n",
    "\n",
    "This is a concise tutorial for configuring a test Amazon OpenSearch Service domain. Do not use this process to create production domains. For a comprehensive version of the same process, see [Creating and managing Amazon OpenSearch Service domains](https://docs.aws.amazon.com/opensearch-service/latest/developerguide/opensearch-service-dg.pdf#createupdatedomains). New domains typically take **15–30 minutes** to initialize, but can take longer depending on the configuration."
   ]
  },
  {
   "cell_type": "markdown",
   "metadata": {},
   "source": [
    "## Practices Tutorials\n",
    "The practices for this sub-module involve following some of the select tutorials from the User Guide and collecting artifacts.\n",
    "### Tutorial 2\n",
    "\n",
    "#### Estimated Tutorial Time: <span style='color:blue'>approximately 20 minutes</span>\n",
    "\n",
    "Follow the instruction below and repeat Step 2 and 3 from **Tutorial 1**:\n",
    "#### Download [sample_movies.zip](https://docs.aws.amazon.com/opensearch-service/latest/developerguide/samples/sample-movies.zip), unzip it, and use _bulk API to add the 5000 documents\n",
    "\n",
    "**Note** - There are some disconnections between the various parts of that PDF tutorials.\n",
    "Besides the stream edit to change `movies` to `sso-movies` using your SSO, you will also need to adapt the JSON to define the type as `_doc` instead of `movie`\n",
    "Otherwise, you will see an error such as this.\n",
    "```\n",
    "\"Rejecting mapping update to [scott's-movies] as the final mapping would have more than 1 type: [_doc, movie]\"\n",
    "```\n",
    " * Here is the command to use on the unzipped file:\n",
    "```\n",
    "sed -i -e 's/\"_type\": \"movie\"/\"_type\": \"_doc\"/g' sample-movies.bulk \n",
    "```\n",
    "\n",
    "\n",
    "#### Artifacts Notes:\n",
    "\n",
    "1. Take a screenshot of the OpenSearch Dashboard and upload it as `practice1.png`\n",
    "![Your practice1.png file is missing](./practice1.png)"
   ]
  },
  {
   "cell_type": "raw",
   "metadata": {},
   "source": [
    "# Add the URL to your Tutorial Dashboard below this line\n",
    "Main Link\n",
    "https://search-lcmhng-movies-zmqepovyajwrgxud4xwqogicae.us-east-1.es.amazonaws.com/_dashboards/app/home#/\n",
    "\n",
    "Dashboard Link:\n",
    "https://search-lcmhng-movies-zmqepovyajwrgxud4xwqogicae.us-east-1.es.amazonaws.com/_dashboards/app/opensearch_dashboards_overview#/\n",
    "\n"
   ]
  },
  {
   "cell_type": "markdown",
   "metadata": {},
   "source": [
    "## Exercise - Build Visualizations of the Movies\n",
    "\n",
    "#### Estimated Time: <span style='color:blue'>approximately 60-75 minutes</span>\n",
    "\n",
    "Build at least three different types of visualizations using the Open Search Dashboard, and link them into a Dashboard.\n",
    "\n",
    "![AWS_OpenSearch_Dashboard.png MISSING](./images/AWS_OpenSearch_Dashboard.png)\n",
    "\n",
    "#### Artifacts Notes:\n",
    "1. Take a screenshot of your AWS Open Search Dashboard result and upload it as `exercise.png`\n",
    "![Your practice1.png file is missing](./exercise.png)\n",
    "\n",
    "\n",
    "2. Save the Dashboard and get the Share link and paste below."
   ]
  },
  {
   "cell_type": "raw",
   "metadata": {},
   "source": [
    "# Paste the URL to your dash board here\n",
    "\n",
    "https://search-lcmhng-movies-zmqepovyajwrgxud4xwqogicae.us-east-1.es.amazonaws.com/_dashboards/app/dashboards?security_tenant=global#/view/96926680-9c01-11ec-8296-594b5aa4e03b?_g=(filters%3A!()%2CrefreshInterval%3A(pause%3A!t%2Cvalue%3A0)%2Ctime%3A(from%3Anow-100y%2Cto%3Anow))\n"
   ]
  },
  {
   "cell_type": "markdown",
   "metadata": {},
   "source": [
    "## Submitting your work\n",
    "\n",
    "#### Steps:\n",
    "  1. Open Terminal in JupyterHub\n",
    "  1. Change into the course folder\n",
    "  1. Stage (Git Add) the module's learning activities   \n",
    "  `git  add   module3`\n",
    "  1. Create your work snapshot (Git Commit)  \n",
    "  `git   commit   -m   \"Module 3 AWS Open Search\"`\n",
    "  1. Upload the snapshot to the server (Git Push)  \n",
    "  `git   push`"
   ]
  }
 ],
 "metadata": {
  "kernelspec": {
   "display_name": "Python 3",
   "language": "python",
   "name": "python3"
  },
  "language_info": {
   "codemirror_mode": {
    "name": "ipython",
    "version": 3
   },
   "file_extension": ".py",
   "mimetype": "text/x-python",
   "name": "python",
   "nbconvert_exporter": "python",
   "pygments_lexer": "ipython3",
   "version": "3.7.3"
  }
 },
 "nbformat": 4,
 "nbformat_minor": 2
}
