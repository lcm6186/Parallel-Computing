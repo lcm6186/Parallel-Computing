{
 "cells": [
  {
   "cell_type": "markdown",
   "metadata": {},
   "source": [
    "# Module 5 Cloud-based Distributed Computing with Kubernetes\n",
    "\n",
    "This module investigates the use of Kubernetes based cluster computer for supporting parallel data analytics in NSF cluster computer (Nautilus)\n",
    "    1. Kubernetes\n",
    "    2. NSF Nautilus\n",
    "    \n",
    "    You will see below that we have organized this module into a Part 1 (Kubernetes Setup and Testing) and Part 2 (NSF Nautilus Workloads).\n",
    "    Please work through the respective parts in there entirety.\n",
    " \n",
    "#### Module Kickoff Video\n",
    "* [Distributed Computing with Kubernetes - Module Concept Introduction (15 min)](https://youtu.be/z5S5RVpyuEo)\n",
    " * [Slides](./resources/DSA8430_Kubernetes.pdf)"
   ]
  },
  {
   "cell_type": "markdown",
   "metadata": {},
   "source": [
    "# Kubernetes Fundamentals"
   ]
  },
  {
   "cell_type": "markdown",
   "metadata": {},
   "source": [
    "## Reading Material\n",
    "[Kubernetes definition](https://kubernetes.io/docs/concepts/overview/what-is-kubernetes/)  \n",
    "[Kubernetes components](https://kubernetes.io/docs/concepts/overview/components/)  \n",
    "[Kubernetes workload](https://kubernetes.io/docs/concepts/workloads/)  \n",
    "[Kubectl](https://kubernetes.io/docs/tasks/tools/)\n",
    "1. [Pods](https://kubernetes.io/docs/concepts/workloads/pods/)\n",
    "2. [Jobs](https://kubernetes.io/docs/concepts/workloads/controllers/job/)\n",
    "3. [Persistent volume](https://kubernetes.io/docs/concepts/storage/persistent-volumes/)  \n",
    "\n",
    "\n",
    "## Videos\n",
    "[Kubernetes YAML File Explained](https://www.youtube.com/watch?v=qmDzcu5uY1I&ab_channel=TechWorldwithNana)\n"
   ]
  },
  {
   "cell_type": "markdown",
   "metadata": {},
   "source": [
    "# NSF Nautilus"
   ]
  },
  {
   "cell_type": "markdown",
   "metadata": {},
   "source": [
    "### Nautilus Account Creation"
   ]
  },
  {
   "cell_type": "markdown",
   "metadata": {},
   "source": [
    "[Performed in Module1, you should be up and running](../module1/practices/NSF_Nautilus.ipynb)"
   ]
  },
  {
   "cell_type": "markdown",
   "metadata": {},
   "source": [
    "## Lab: Install kubectl and run a simple pod \n",
    "**Approximate lab time (30-120 min), depending on your attention to detail**\n",
    "\n",
    "* [Setup and Test kubectl](./labs/SetupAndTest_kubectl.ipynb)   \n",
    "\n",
    "### Support Files for Lab \n",
    "\n",
    "#### Download these files and review them with a text editor, such as VS Code or Notepad\n",
    "* [Simple pod yaml file](./resources/pod_python.yml)      \n",
    "* [Python code to process image](./resources/process_image.py)\n",
    "\n",
    "\n",
    "#### Download these files\n",
    "* [Image1 to be processed](./resources/image1.npy)\n",
    "* [Image2 to be processed](./resources/image2.npy)\n"
   ]
  },
  {
   "cell_type": "markdown",
   "metadata": {},
   "source": [
    "## Practice: Create a persistent volume and attach it to a pod\n",
    "\n",
    "**Approximate lab time (45-150 min), depending on your attention to detail**\n",
    "\n",
    "\n",
    "* [Practice notebook](./practices/Practice.ipynb)\n",
    "\n",
    "### Support Files for Practice\n",
    "* [YAML File - Create a persistent volume](./resources/persistent_volume.yml)\n",
    "* [YAML File - Mount a persistent_volume on a pod](./resources/pod_pvc.yml)\n",
    "* [YAML File - Mount two persistent volumes and copy data between them](./resources/job_copy_data.yml)\n"
   ]
  },
  {
   "cell_type": "markdown",
   "metadata": {},
   "source": [
    "## Excercises \n",
    "\n",
    "**Approximate lab time (150 - 180 min), depending on your attention to detail and Python coding proficiency**\n",
    "\n",
    "### [Convolutional Neural Network on Nautilus](./exercises/Exercise.ipynb)\n"
   ]
  },
  {
   "cell_type": "markdown",
   "metadata": {},
   "source": [
    "# What is the GPN?\n",
    "\n",
    "You may have noticed a variety of references to the GPN, such as our `gpn-mizzou-dsa` namespace.\n",
    "The GPN is the Great Plains Network, a regional network that provides connectivity for university and research entities to Internet2.\n",
    "\n",
    "Read more about GPN here: https://www.greatplains.net/"
   ]
  },
  {
   "cell_type": "markdown",
   "metadata": {},
   "source": [
    "## Submitting your work\n",
    "\n",
    "### <span style='background:lightblue'>Please be sure the artifacts from all practices and exercises are added into your repository for the commit and push!</span>\n",
    "\n",
    "#### Steps:\n",
    "  1. Open Terminal in JupyterHub\n",
    "  1. Change into the course folder\n",
    "  1. Stage (Git Add) the module's learning activities   \n",
    "  `git  add   module5`\n",
    "  1. Create your work snapshot (Git Commit)  \n",
    "  `git   commit   -m   \"Module 5 submission\"`\n",
    "  1. Upload the snapshot to the server (Git Push)  \n",
    "  `git   push`"
   ]
  },
  {
   "cell_type": "code",
   "execution_count": null,
   "metadata": {},
   "outputs": [],
   "source": []
  }
 ],
 "metadata": {
  "kernelspec": {
   "display_name": "Python 3",
   "language": "python",
   "name": "python3"
  },
  "language_info": {
   "codemirror_mode": {
    "name": "ipython",
    "version": 3
   },
   "file_extension": ".py",
   "mimetype": "text/x-python",
   "name": "python",
   "nbconvert_exporter": "python",
   "pygments_lexer": "ipython3",
   "version": "3.7.3"
  }
 },
 "nbformat": 4,
 "nbformat_minor": 4
}
