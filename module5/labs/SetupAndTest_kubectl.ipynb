{
 "cells": [
  {
   "cell_type": "markdown",
   "metadata": {},
   "source": [
    "# Setting Up and Testing kubectl to control a kubernetes cluster"
   ]
  },
  {
   "cell_type": "markdown",
   "metadata": {},
   "source": [
    "# Part 1\n",
    "\n",
    "For this module, the Nautilus Jupyter Lap environment is our working environment.  \n",
    "To control the Kubernetes cluster, please use the **Stack Datascience**."
   ]
  },
  {
   "cell_type": "markdown",
   "metadata": {},
   "source": [
    "## 1.0 Get the Nautilus Kubernetes Configuration File\n",
    "\n",
    "https://nautilus.optiputer.net/\n",
    "\n",
    "![Nautilus_get_config.png MISSING](../images/Nautilus_get_config.png)\n",
    "\n",
    "After you get the file downloaded, please follow directions they provide!\n",
    "![Nautilus_get_config_post_download.png MISSING](../images/Nautilus_get_config_post_download.png)\n",
    "\n",
    "### The simple way to put the `config` into your Nautilus Jupyter Lab\n",
    "\n",
    "1. Upload into the top-level (home) folder.\n",
    "2. Create the kubernetes config folder, and then move the config into that folder.\n",
    "```BASH\n",
    "jovyan@jupyter-scottgs-40missouri-2eedu:~$ mkdir ~/.kube\n",
    "jovyan@jupyter-scottgs-40missouri-2eedu:~$ mv config ~/.kube/\n",
    "```\n"
   ]
  },
  {
   "cell_type": "markdown",
   "metadata": {},
   "source": [
    "---\n",
    "\n",
    "## 1.1 Install kubectl into your container on your Nautilus Jupyter Lab \n",
    "\n",
    "### Linux\n",
    "\n",
    "https://kubernetes.io/docs/tasks/tools/install-kubectl-linux/\n",
    "\n",
    "Specifically **_Install using native package management_**:   \n",
    "https://kubernetes.io/docs/tasks/tools/install-kubectl-linux/#install-using-native-package-management\n",
    "\n",
    "#### Please confirm that you follow the steps and see the `Setting up kubectl (1.23.4-00)` or at least some version that starts with 1.23\n",
    "\n",
    "```BASH\n",
    "jovyan@jupyter-scottgs-40missouri-2eedu:~$ sudo apt-get install -y kubectl\n",
    "Reading package lists... Done\n",
    "Building dependency tree       \n",
    "Reading state information... Done\n",
    "The following NEW packages will be installed:\n",
    "  kubectl\n",
    "0 upgraded, 1 newly installed, 0 to remove and 35 not upgraded.\n",
    "Need to get 8,927 kB of archives.\n",
    "After this operation, 46.6 MB of additional disk space will be used.\n",
    "Get:1 https://packages.cloud.google.com/apt kubernetes-xenial/main amd64 kubectl amd64 1.23.4-00 [8,927 kB]\n",
    "Fetched 8,927 kB in 0s (21.4 MB/s)\n",
    "debconf: delaying package configuration, since apt-utils is not installed\n",
    "Selecting previously unselected package kubectl.\n",
    "(Reading database ... 63512 files and directories currently installed.)\n",
    "Preparing to unpack .../kubectl_1.23.4-00_amd64.deb ...\n",
    "Unpacking kubectl (1.23.4-00) ...\n",
    "Setting up kubectl (1.23.4-00) ...\n",
    "```\n",
    "\n",
    "\n",
    "### Test the Confg setup\n",
    "`kubectl cluster-info -n gpn-mizzou-dsa`"
   ]
  },
  {
   "cell_type": "markdown",
   "metadata": {},
   "source": [
    "### Alternative System Install Guides\n",
    "#### Windows\n",
    "https://kubernetes.io/docs/tasks/tools/install-kubectl-windows/\n",
    "\n",
    "#### Mac\n",
    "\n",
    "https://kubernetes.io/docs/tasks/tools/install-kubectl-macos/\n",
    "\n",
    "\n",
    "### Before you continue, review some of the Nautilus documentation\n",
    " * https://ucsd-prp.gitlab.io/userdocs/start/quickstart/\n",
    " * https://ucsd-prp.gitlab.io/userdocs/tutorial/basic/\n",
    " \n",
    "Of particular note, these instructions will assume you have set the default namespace to `gpn-mizzou-dsa`"
   ]
  },
  {
   "cell_type": "markdown",
   "metadata": {},
   "source": [
    "# Part2: Execute a simple pod"
   ]
  },
  {
   "cell_type": "markdown",
   "metadata": {},
   "source": [
    "## 2.1 Write yaml file for the pod"
   ]
  },
  {
   "cell_type": "markdown",
   "metadata": {},
   "source": [
    " Upload the file `pod_python.yml` that you downloaded from the [Schedule](../Schedule.ipynb) page.\n",
    "\n",
    " Open file and replace SSO in line 4 with your SSO \n",
    " \n",
    " ![Nautilus_kube_lab_pod_yaml.png MISSING](../images/Nautilus_kube_lab_pod_yaml.png)"
   ]
  },
  {
   "cell_type": "markdown",
   "metadata": {},
   "source": [
    "## 2.2 Run the pod"
   ]
  },
  {
   "cell_type": "markdown",
   "metadata": {},
   "source": [
    "```BASH\n",
    "kubectl create -f pod_python.yml\n",
    "```\n",
    "\n",
    "### Progress Check:  Did you get a response similar to:\n",
    "```\n",
    "pod/pod-python-scottgs created\n",
    "```"
   ]
  },
  {
   "cell_type": "markdown",
   "metadata": {},
   "source": [
    "## 2.3 Check pod "
   ]
  },
  {
   "cell_type": "markdown",
   "metadata": {},
   "source": [
    " Run the command below, it will show you the status of your pod\n",
    "```BASH\n",
    "kubectl get pods\n",
    "```"
   ]
  },
  {
   "cell_type": "markdown",
   "metadata": {},
   "source": [
    " ## 2.4 Copy code and image files to _your_ pod\n",
    "\n",
    "For each file referenced below, you will need to upload it first to your Nautilus Jupyter Lab instance.\n",
    "Example directory listing on Nautilus Jupyter of uploaded files.\n",
    "```BASH\n",
    "jovyan@jupyter-scottgs-40missouri-2eedu:~$ ls -lt | head\n",
    "total 247392\n",
    "-rw-r--r--.  1 jovyan users       300 Mar  2 05:11 process_image.py\n",
    "-rw-r--r--.  1 jovyan users   5070128 Mar  2 05:10 image1.npy\n",
    "-rw-r--r--.  1 jovyan users    422628 Mar  2 05:09 image2.npy\n",
    "-rw-r--r--.  1 jovyan users       315 Mar  2 03:07 pod_python.yml\n",
    "```\n",
    "\n",
    "\n",
    " * Make sure you update the `pod_name` to be your actual pod name.\n",
    "\n",
    "```BASH\n",
    "kubectl -n gpn-mizzou-dsa cp process_image.py pod_name:home/process_image.py\n",
    "kubectl -n gpn-mizzou-dsa cp image1.npy pod_name:home/image2.npy\n",
    "kubectl -n gpn-mizzou-dsa cp image2.npy pod_name:home/image2.npy\n",
    "```"
   ]
  },
  {
   "cell_type": "markdown",
   "metadata": {},
   "source": [
    "## 2.5  Access the pod, look for our copied files.\n",
    "\n",
    "Now we will get interactive access on pod using the command below, where the `/bin/bash` is our terminal shell.\n",
    "\n",
    "```BASH\n",
    "kubectl exec -it pod_name -- /bin/bash\n",
    "\n",
    "cd home\n",
    "\n",
    "ls -lt\n",
    "```"
   ]
  },
  {
   "cell_type": "markdown",
   "metadata": {},
   "source": [
    " #### Example / Expected view\n",
    " \n",
    "```BASH\n",
    "jovyan@jupyter-scottgs-40missouri-2eedu:~$ kubectl exec -it pod-python-scottgs -- /bin/bash\n",
    "root@pod-python-scottgs:/#\n",
    "root@pod-python-scottgs:/# cd home\n",
    "root@pod-python-scottgs:/home# ls -lt\n",
    "total 5372\n",
    "-rw-r--r-- 1 1000 users  422628 Mar  2 05:13 image2.npy\n",
    "-rw-r--r-- 1 1000 users 5070128 Mar  2 05:13 image1.npy\n",
    "-rw-r--r-- 1 1000 users     300 Mar  2 05:13 process_image.py\n",
    "```"
   ]
  },
  {
   "cell_type": "markdown",
   "metadata": {},
   "source": [
    "## 2.6 Install libraries"
   ]
  },
  {
   "cell_type": "markdown",
   "metadata": {},
   "source": [
    "```BASH\n",
    "pip install numpy  matplotlib pillow\n",
    "```"
   ]
  },
  {
   "cell_type": "markdown",
   "metadata": {},
   "source": [
    "## 2.7 Run Python code "
   ]
  },
  {
   "cell_type": "markdown",
   "metadata": {},
   "source": [
    "```BASH\n",
    "python3 process_image.py \n",
    "```\n",
    "\n",
    "#### Check Point: After running the program (python code) you should have a new file:\n",
    "```BASH\n",
    "root@pod-python-scottgs:/home# ls -lt | head\n",
    "total 5488\n",
    "-rw-r--r-- 1 root root   118118 Mar  2 05:21 images.png\n",
    "```\n"
   ]
  },
  {
   "cell_type": "markdown",
   "metadata": {},
   "source": [
    "## 2.8 Exit the Pod and Copy resulting image back to your local repo"
   ]
  },
  {
   "cell_type": "markdown",
   "metadata": {},
   "source": [
    "To exit the pod, you can type `exit` or use `[Control]+D` for _disconnect_.  \n",
    "Then, proceed to pull the result image down.\n",
    "\n",
    "```BASH\n",
    "kubectl -n gpn-mizzou-dsa cp pod_name:home/images.png output_image.png\n",
    "```"
   ]
  },
  {
   "cell_type": "markdown",
   "metadata": {},
   "source": [
    "## 2.9 Upload image to jupyter notebook\n",
    "\n",
    "\n",
<<<<<<< HEAD
    "![Your output_image.png is MISSING](./output_image.png)\n"
=======
    "![Your output_image.png is MISSING](output_image.png)"
>>>>>>> 0da1d51f835a9eaa72b708d2bb2e28551e88a5d2
   ]
  },
  {
   "cell_type": "markdown",
   "metadata": {},
   "source": [
    "## 2.10 Delete pod\n",
    "\n",
    "If you have gotten your image into this notebook, proceed with deleting your pod."
   ]
  },
  {
   "cell_type": "markdown",
   "metadata": {},
   "source": [
    "```BASH\n",
    "kubectl delete pod pod_name\n",
    "```\n",
    "\n",
    "#### <span style='background:yellow'>Did you see a message similar to this?</span>\n",
    "```\n",
    "pod \"pod-python-scottgs\" deleted\n",
    "```"
   ]
  },
  {
   "cell_type": "markdown",
   "metadata": {},
   "source": [
    "# Save your notebook, do not forget to `git add` your output_image.png"
   ]
  }
 ],
 "metadata": {
  "kernelspec": {
   "display_name": "Python 3",
   "language": "python",
   "name": "python3"
  },
  "language_info": {
   "codemirror_mode": {
    "name": "ipython",
    "version": 3
   },
   "file_extension": ".py",
   "mimetype": "text/x-python",
   "name": "python",
   "nbconvert_exporter": "python",
   "pygments_lexer": "ipython3",
   "version": "3.7.3"
  }
 },
 "nbformat": 4,
 "nbformat_minor": 4
}
