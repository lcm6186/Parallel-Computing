{
 "cells": [
  {
   "cell_type": "markdown",
   "metadata": {},
   "source": [
    "# Module 4 Parallel Computing Data Analytics\n",
    "\n",
    "This module investigates two technologies for supporting parallel data analytics in common commercial cloud cyberinfrastructure.\n",
    " 1. AWS Quicksight \n",
    " 2. GCP Dataflow\n",
    " \n",
    "#### Module Kickoff Video\n",
    "* [Parallel Analytics Concept Introduction (5 min)](https://youtu.be/DM6WK2vMC0s)\n",
    " * [Slides](./resources/DSA8430_Parallel_Analytics.pdf)\n",
    "\n",
    "You will see below that we have organized this module into a Part 1 (AWS Quicksight) and Part 2 (GCP Data Studio).  \n",
    "Please work through the respective parts in there entirety.\n",
    "These are case studies that are self-contained and independent of each other.\n",
    "**Do not try to do both sets of labs, then practices, then exercises** in the traditional DSA style.\n"
   ]
  },
  {
   "cell_type": "markdown",
   "metadata": {},
   "source": [
    "# [Part 1 - AWS Quicksight and SPICE](./AWS_Quicksight.ipynb)\n",
    "\n",
    "Please ensure you have registered all the associated development artifacts into notebooks and Git for grading.\n"
   ]
  },
  {
   "cell_type": "markdown",
   "metadata": {},
   "source": [
    "# [Part 2 - GCP Data Studio](./GCP_DataStudio.ipynb)\n",
    "\n",
    "Please ensure you have registered all the associated development artifacts into notebooks and Git for grading.\n"
   ]
  },
  {
   "cell_type": "markdown",
   "metadata": {},
   "source": [
    "## Submitting your work\n",
    "\n",
    "#### Steps:\n",
    "  1. Open Terminal in JupyterHub\n",
    "  1. Change into the course folder\n",
    "  1. Stage (Git Add) the module's learning activities   \n",
    "  `git  add   module4`\n",
    "  1. Create your work snapshot (Git Commit)  \n",
    "  `git   commit   -m   \"All Module 4 work\"`\n",
    "  1. Upload the snapshot to the server (Git Push)  \n",
    "  `git   push`"
   ]
  }
 ],
 "metadata": {
  "kernelspec": {
   "display_name": "Python 3",
   "language": "python",
   "name": "python3"
  },
  "language_info": {
   "codemirror_mode": {
    "name": "ipython",
    "version": 3
   },
   "file_extension": ".py",
   "mimetype": "text/x-python",
   "name": "python",
   "nbconvert_exporter": "python",
   "pygments_lexer": "ipython3",
   "version": "3.7.3"
  }
 },
 "nbformat": 4,
 "nbformat_minor": 2
}
