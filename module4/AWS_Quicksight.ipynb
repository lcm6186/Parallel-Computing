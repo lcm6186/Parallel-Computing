{
 "cells": [
  {
   "cell_type": "markdown",
   "metadata": {},
   "source": [
    "# Part 1 - AWS Quicksight and SPICE \n",
    "AWS Quicksight is a real-time analytics and business intelligence (BI) dashboarding system that is codeless, serverless, and self-optimized. \n",
    "The underlying computation is supported by SPICE (Super-fast, Parallel, In-memory Calculation Engine).\n",
    "\n",
    "## <span style='background:yellow'> Please keep in mind that this is just part 1 of the module, and you have another half. Do not spend more than 12 hours perfecting your Quicksight dashboard!</span>\n",
    "\n",
    "Come back to it later if you have more time or after the course is completed.\n",
    "\n",
    "\n",
    "### Please download or bookmark the User Guide\n",
    "  * [Quicksight User Guide](https://docs.aws.amazon.com/quicksight/latest/user/amazon-quicksight-user.pdf)\n",
    "\n",
    "\n",
    "From the user guide:\n",
    "\n",
    "## `What is Amazon QuickSight?`\n",
    "> Amazon QuickSight is a cloud-scale business intelligence (BI) service that you can use to deliver easy-to-understand insights to the people who you work with, wherever they are. Amazon QuickSight connects to your data in the cloud and combines data from many different sources. In a single data dashboard, QuickSight can include AWS data, third-party data, big data, spreadsheet data, SaaS data, B2B data, and more. As a fully managed cloud-based service, Amazon QuickSight provides enterprise-grade security, global availability, and built-in redundancy. It also provides the user-management tools that you need to scale from 10 users to 10,000, all with no infrastructure to deploy or manage.\n"
   ]
  },
  {
   "cell_type": "markdown",
   "metadata": {},
   "source": [
    "## Videos\n",
    "\n",
    "To get a little taste of Amazon Quicksight, please watch the first short video.\n",
    "\n",
    " * Basic Tutorial (14 minutes) https://youtu.be/hh6ItJbCUQ0\n",
    "\n",
    "If you feel you want more deep dives, I recommend watching these videos as your time permits.\n",
    " * Overview (60 minutes) https://youtu.be/WaOrQtxLXfs\n",
    " * Extended Course (2:45 hours) https://youtu.be/2KEWxdPiUh8\n"
   ]
  },
  {
   "cell_type": "markdown",
   "metadata": {},
   "source": [
    "## Setup (Lab)\n",
    "\n",
    "Remember to access AWS through our special IAM portal.  See [AWS Getting Started](../module1/practices/AWS_Getting_Started.ipynb) for details.\n",
    "\n",
    "### After sign on, expand the Mangement Console and click on the Quicksight link\n",
    "\n",
    "![AWS_Management_Console.png](./images/AWS_Management_Console.png)\n",
    "\n",
    "### Select \"Standard\" radio button, the configure the service as shown below.\n",
    "\n",
    "![AWS_Quicksight_Setup_1.png MISSING](./images/AWS_Quicksight_Setup_1.png)\n",
    "![AWS_Quicksight_Setup_2.png MISSING](./images/AWS_Quicksight_Setup_2.png)\n",
    "![AWS_Quicksight_Setup_3.png MISSING](./images/AWS_Quicksight_Setup_3.png)\n",
    "\n",
    "### Once you have the Quicksight set up, you should see a screen similar to this\n",
    "\n",
    "![AWS_Quicksight_Setup_4.png MISSING](./images/AWS_Quicksight_Setup_4.png)\n",
    "\n",
    "\n",
    "## The AWS Quicksight quick link for use after set up is below.\n",
    "\n",
    "https://us-east-2.quicksight.aws.amazon.com/sn/start/analyses\n",
    "\n"
   ]
  },
  {
   "cell_type": "markdown",
   "metadata": {},
   "source": [
    "## Practices Tutorials\n",
    "\n",
    "The practices for this sub-module involve following some of the select tutorials from the User Guide.\n",
    "\n",
    "For each practice, ensure your artifact is properly linked into this notebook in the appropriate location.\n",
    "\n",
    "### [Tutorial 1](https://docs.aws.amazon.com/quicksight/latest/user/amazon-quicksight-user.pdf#example-analysis)\n",
    "\n",
    "#### Estimated Tutorial Time: <span style='color:blue'>approximately 30 minutes</span>\n",
    "\n",
    "Reference the Quicksight User Guide to complete the first tutorial  \n",
    "<span style='color:orange; font-weight:800; font-size:1.5em'>Create a multivisual analysis and a dashboard using sample data</span>\n",
    "\n",
    "#### Artifacts Notes:\n",
    "\n",
    "1. When you publish the Dashboard, ensure your prefix for the name is your Pawprint.\n",
    "2. Add the link to your dashboard in the RAW cell below.\n",
    "3. Download the dashboard as a PDF Report and upload it into the `practices` folder\n",
    "  * **rename it to `Practice1.pdf`**\n",
    "![AWS_Quicksight_DownLoad_as_Report.png MISSING](./images/AWS_Quicksight_DownLoad_as_Report.png)\n"
   ]
  },
  {
   "cell_type": "raw",
   "metadata": {},
   "source": [
    "# Add URL to Tutorial Dashboard below this line\n",
    "\n",
    "https://us-east-2.quicksight.aws.amazon.com/sn/dashboards/fa051eb1-abdc-4467-b323-8b1814f617bb\n"
   ]
  },
  {
   "cell_type": "markdown",
   "metadata": {},
   "source": [
    "### [Tutorial 2](https://docs.aws.amazon.com/quicksight/latest/user/amazon-quicksight-user.pdf#page=61)\n",
    "\n",
    "#### Estimated Tutorial Time: <span style='color:blue'>approximately 45 - 60 minutes</span>\n",
    "\n",
    "Reference the Quicksight User Guide to complete the second primary tutorial  \n",
    "<span style='color:orange; font-weight:800; font-size:1.5em'>Create an analysis using your own local text file\n",
    "data</span>\n",
    "\n",
    "#### Preparation\n",
    " 1. Download the data file from the _Course folder > module6 > practices_\n",
    "![AWS_Quicksight_DownLoad_DataFile_Practice2.PNG MISSING](./images/AWS_Quicksight_DownLoad_DataFile_Practice2.PNG)\n",
    " 2. Use this data file of congression terms as your data file for the second tutorial.\n",
    "   * Please note, this is Step 1, part 5 \"In the **Open** dialog box, ...\"\n",
    " 3. **You will need to edit** the data in Quicksight to get the file to load by excluding certain columns!\n",
    " 4. Add a Page Title to your Chart with your Pawprint (see example).\n",
    " 5. Add a _tree map_ that aggregates the records per state.\n",
    " 6. Add a pair of _histograms_ that separate out the distributions of Republicans (R) and Democrats (D)\n",
    " 7. Add a _trend chart_ of the congressional delegation size of 5 states that you are interested in.\n",
    " 8. Add a _stacked bar chart_ for the two congressional houses, bars representing parties.\n",
    " \n",
    " \n",
    "##### [View a Sample Here](./resources/DSA_8430_QuickSightPracticeSample.pdf)\n",
    " \n",
    "\n",
    "#### Artifacts Notes:\n",
    "\n",
    "1. When you publish the Dashboard, ensure your prefix for the name is your Pawprint.\n",
    "2. Add the link to your dashboard in the RAW cell below.\n",
    "3. Download the dashboard as a PDF Report and upload it into the `practices` folder\n",
    "  * **rename it to `Practice2.pdf`**\n",
    "![AWS_Quicksight_DownLoad_as_Report.png MISSING](./images/AWS_Quicksight_DownLoad_as_Report.png)\n",
    "\n",
    "\n",
    "\n"
   ]
  },
  {
   "cell_type": "raw",
   "metadata": {},
   "source": [
    "# Add URL to Tutorial Dashboard below this line\n",
    "\n",
    "https://us-east-2.quicksight.aws.amazon.com/sn/analyses/eebf10dd-301b-4977-b695-e78a18303ba2\n"
   ]
  },
  {
   "cell_type": "markdown",
   "metadata": {},
   "source": [
    "## Excercises\n",
    "\n",
    "For your exercise, please find an interesting dataset from https://catalog.data.gov/dataset\n",
    "The dataset should have at least 10,000 records and at least 15 columns / features.\n",
    "The dataset should be less than 200 MB in size for this exercise.\n",
    "\n",
    "### Dashboard Requirements\n",
    "\n",
    " * Build a dashboard using at least 10 features across 6 charts.\n",
    " * Your Dashboard should have at least two filters.\n",
    " \n",
    "### Artifacts Notes:\n",
    "\n",
    "1. Publish the Dashboard, ensure you prefix the name with your Pawprint.\n",
    "2. Add the link to your dashboard in the RAW cell below.\n",
    "3. Download the dashboard as a PDF Report and upload it into the `exercises` folder\n",
    "  * **rename it to `Exercise.pdf`**\n",
    "![AWS_Quicksight_DownLoad_as_Report.png MISSING](./images/AWS_Quicksight_DownLoad_as_Report.png)\n"
   ]
  },
  {
   "cell_type": "raw",
   "metadata": {},
   "source": [
    "# Add URL to Eercise Dashboard URL below this line\n",
    "\n",
    "https://us-east-2.quicksight.aws.amazon.com/sn/analyses/492b5c86-ad19-41cb-8d5e-484fdb741fd8\n"
   ]
  },
  {
   "cell_type": "markdown",
   "metadata": {},
   "source": [
    "## Submitting your work\n",
    "\n",
    "#### Steps:\n",
    "  1. Open Terminal in JupyterHub\n",
    "  1. Change into the course folder\n",
    "  1. Stage (Git Add) the module's learning activities   \n",
    "  `git  add   module4`\n",
    "  1. Create your work snapshot (Git Commit)  \n",
    "  `git   commit   -m   \"Module 4 AWS Quicksight\"`\n",
    "  1. Upload the snapshot to the server (Git Push)  \n",
    "  `git   push`"
   ]
  }
 ],
 "metadata": {
  "kernelspec": {
   "display_name": "Python 3",
   "language": "python",
   "name": "python3"
  },
  "language_info": {
   "codemirror_mode": {
    "name": "ipython",
    "version": 3
   },
   "file_extension": ".py",
   "mimetype": "text/x-python",
   "name": "python",
   "nbconvert_exporter": "python",
   "pygments_lexer": "ipython3",
   "version": "3.7.3"
  }
 },
 "nbformat": 4,
 "nbformat_minor": 2
}
