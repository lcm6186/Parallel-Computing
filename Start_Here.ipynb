{
 "cells": [
  {
   "cell_type": "markdown",
   "metadata": {},
   "source": [
    "#  Parallel Computing for Data Analytics\n",
    "\n",
    "## DATA_SCI 8430\n",
    "\n",
    "This course will provide in-depth treatment of the evolution of high performance, parallel computing architectures and how these architectures and computational ecosystems support data science. \n",
    "We will cover topics such as: parallel algorithms for numerical processing, parallel data search, and other parallel computing algorithms which facilitate advanced analytics. \n",
    "To reinforce lecture topics, learning activities will be completed using parallel computing techniques for modern multicore and multi-node systems. \n",
    "Parallel algorithms will be investigated, selected, and then developed for various scientific data analytics problems. Programming projects will be completed using Python and R, leveraging various parallel and distributed computing infrastructure such as AWS and GCP. \n",
    "Students will research emerging parallel and scalable architectures for data analytics."
   ]
  },
  {
   "cell_type": "markdown",
   "metadata": {},
   "source": [
    "---\n",
    "\n",
    "### Course Design\n",
    "\n",
    "This course is designed with some traditional DSA modules (readings, labs, practices), \n",
    "as well as some tutorial case study style modules.\n",
    "In the case study learning modules, we will leverage guided examples for particular topics in AWS and GCP.\n",
    "These case studies will walk you through **experiential learning** activities and require reflection on the case study in preparation for subsequent learning activities, e.g., module exercises.\n",
    "\n",
    "### Technologies\n",
    "  + Jupyter, Python\n",
    "  + Amazon Web Services (AWS)\n",
    "  + Google Cloud Platform (GCP)\n",
    "  + Nation Research Platform (NRP)\n",
    "\n"
   ]
  },
  {
   "cell_type": "markdown",
   "metadata": {},
   "source": [
    "\n",
    "\n",
    "## Course Module Schedule\n",
    "\n",
    "  1. [Introduction of Parallel Computing Architectures](./module1/Schedule.ipynb)\n",
    "  2. [Divide and Conquer Algorithms](./module2/Schedule.ipynb)\n",
    "  3. [Parallel Data Search](./module3/Schedule.ipynb)\n",
    "  4. [Parallel Data Analytics](./module4/Schedule.ipynb)\n",
    "  5. [Cloud-based Distributed Computing with Kubernetes](./module5/Schedule.ipynb)\n",
    "  6. [Advanced Distributed Computation](./module6/Schedule.ipynb)\n",
    "  7. [Emerging Big Data Ecosystems](./module7/Schedule.ipynb)\n",
    "  8. [Final project](./module8/Schedule.ipynb)"
   ]
  },
  {
   "cell_type": "markdown",
   "metadata": {},
   "source": [
    "### Weekly Module Download\n",
    "Each Saturday morning, the new module will become available. You will use Git Pull to acquire the module's learning activities.\n",
    "Clicking on the modules above before the content is pulled is expected to give you a 404 Error\n",
    "\n",
    " * **Note:** Module 1 is included with the initial course deployments.\n",
    "\n",
    "#### Steps:\n",
    "1. Open Terminal in JupyterHub\n",
    "2. Change into the course folder\n",
    "3. Execute command:\n",
    "```bash\n",
    "git pull --no-edit upstream master\n",
    "```"
   ]
  },
  {
   "cell_type": "markdown",
   "metadata": {},
   "source": [
    "### Weekly Module Schedule\n",
    "Every module can be worked through at your own pace within the timeframe of the module. Modules are 1 week long from Saturday to Saturday, due at 11:59 PM CT. \n",
    "Saturday is always the start day of a new module so there are a few hours of overlap between modules. \n",
    "**Individual discussion posts need to be made by Wednesday and then responses to other students will need to happen between Thursday and Saturday, or earlier if enough people have posted to have discussion.** \n",
    "\n",
    "**Practices and Exercises are due on the Saturday at 11:59 PM (CT) each week.**\n",
    "\n",
    "#### Recommended Schedule of Learning Activities\n",
    "\n",
    "All material will be released at the beginning of each module to allow you to work through the week and manage your time as needed.\n",
    "\n",
    "**Saturday - Tuesday** \n",
    " - Readings \n",
    " - Labs\n",
    " - Practices\n",
    " \n",
    "**Wednesday**\n",
    " - Post Discussion \n",
    " \n",
    "**Thursday**\n",
    " -  Respond to Discussions\n",
    " \n",
    "**Wednesday - Saturday**\n",
    " - Exercises\n",
    "\n",
    "\n",
    "Module practices and exercises need to be committed and pushed by **11:59 PM Central Time on Saturday** the week after the material was released.\n"
   ]
  },
  {
   "cell_type": "markdown",
   "metadata": {},
   "source": [
    "### The Ethic of Mutual Aid\n",
    "\n",
    "In each module it is important to ask and answer questions. \n",
    "All students should ask. Everyone should try to answer at least once. \n",
    "We learn by solving our own problems and helping others solve theirs.\n",
    "Social learning theory helps to explain the mechanics of how communicating with others aids learning.\n",
    "It suggests that people learn from one another, via observation, imitation, and modeling. \n",
    "The theory has often been called a bridge between behaviorist and cognitive learning theories because it encompasses attention, memory, and motivation. \n",
    "If you think about the most rewarding learning experiences in your life, \n",
    "its likely you will recall a time when you struggled, sought help, provided help and ultimately achieved your aims. \n",
    "And probably helped others achieve theirs.\n",
    "\n",
    "The instructors and TAs will help the discussions and mutual aid stay on track.\n",
    "We look forward to working with all of you!\n",
    "\n",
    "Mutual aid is a place to discuss the topic and issue you are having. It is not a place to post code, working or not for feedback or solutions. Posting code is counterproductive  in this type of Mutual Aid environment. "
   ]
  },
  {
   "cell_type": "markdown",
   "metadata": {},
   "source": [
    "### Resources\n",
    "\n",
    "Each module will have reading links and resources. Please consult the weekly Schedule notebook for details and modular particulars. "
   ]
  }
 ],
 "metadata": {
  "kernelspec": {
   "display_name": "Python 3 (ipykernel)",
   "language": "python",
   "name": "python3"
  },
  "language_info": {
   "codemirror_mode": {
    "name": "ipython",
    "version": 3
   },
   "file_extension": ".py",
   "mimetype": "text/x-python",
   "name": "python",
   "nbconvert_exporter": "python",
   "pygments_lexer": "ipython3",
   "version": "3.9.7"
  }
 },
 "nbformat": 4,
 "nbformat_minor": 4
}
