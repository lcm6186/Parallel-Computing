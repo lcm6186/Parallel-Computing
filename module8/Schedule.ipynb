{
 "cells": [
  {
   "cell_type": "markdown",
   "metadata": {},
   "source": [
    "# Module 8 - Final Project\n",
    "\n",
    "Your final project will involve building a data science pipeline using data of your choosing from the University of California Irvine (UCI) Machine Learning Data Repository.\n",
    "\n",
    "You must use a multivariate data set with 10-100 features, and over 1000 rows of data.\n",
    "\n",
    "### Classification Data Sets Link\n",
    "https://archive.ics.uci.edu/ml/datasets.php?format=&task=cla&att=&area=&numAtt=10to100&numIns=greater1000&type=&sort=nameUp&view=table\n",
    "\n",
    "### Regression Data Sets Link\n",
    "https://archive.ics.uci.edu/ml/datasets.php?format=&task=reg&att=&area=&numAtt=10to100&numIns=greater1000&type=&sort=nameUp&view=table"
   ]
  },
  {
   "cell_type": "markdown",
   "metadata": {},
   "source": [
    "**Note** Keep in mind the last scheduled course day is April 22, 2022.\n",
    "This will have to be the due date (at 11:59 PM), per Registrar guidance for the course.\n",
    "\n",
    "### You will build a Data Science Pipeline that includes these steps, all within the AWS SageMaker environment.\n",
    "\n",
    "* Data Import\n",
    "* Data Wrangler\n",
    "* Data Bias Exploration\n",
    "* ML Model Training\n",
    "* ML Fairness Measurement\n",
    "\n",
    "For each step, you will need to capture the relevant artifact, upload it, and link it into the cell below.\n",
    "There is a Markdown cell below each step that can be edited by double clicking.\n",
    "Be sure to save the notebook often.\n",
    "You are welcome to add additional Markdown Cells, just keep the Data Science pipeline in order.\n",
    "\n",
    "### Look to module 7 for refreshers, ideas, and inspiration. However, it is not a simple substitution recipe!  You cannot just copy-paste-edit, you must interpret and extrapolate!"
   ]
  },
  {
   "cell_type": "markdown",
   "metadata": {},
   "source": [
    "---\n",
    "\n",
    "### 0. Choose a data set, provide some comments on why you chose it.  Provide the link!\n",
    "\n",
    "**Keep in mind, the performance of the ML models is not of much concern, as long as you are doing thing correctly and getting proper results.**\n",
    "You will not be penalized based on poorly aligned performance, models, or hyper-parameters.\n",
    "The goal is the Data Science Pipeline in AWS SageMaker as a process!!!"
   ]
  },
  {
   "cell_type": "markdown",
   "metadata": {},
   "source": [
    "##### Double Click to Edit This Cell to provide markdown documenting your data set choice and what type of predictive ML task you are doing.\n",
    "\n",
    "# Dataset - Dry Bean Dataset\n",
    "\n",
    "This dataset categorizes 7 types of dry beans categorized by features such as \n",
    "\n",
    "    - form\n",
    "    - shape\n",
    "    - structure\n",
    "    \n",
    "The goal of this pipeline is to create a classification model to categorize the beans into one of the seven categories"
   ]
  },
  {
   "cell_type": "markdown",
   "metadata": {},
   "source": [
    "---\n",
    "\n",
    "## 1. Data Import"
   ]
  },
  {
   "cell_type": "markdown",
   "metadata": {},
   "source": [
    "##### Double Click to Edit This Cell to link an image of the S3 bucket with \"sagemaker\" in the name, and your SSO, and the contents of that bucket as the data file you referenced above.\n",
    "\n",
    "# Image of sagemaker S3 bucket with Dry Beans\n",
    "\n",
    "![DryBeans Bucket](sagemaker-exercise-lcmhng.png)"
   ]
  },
  {
   "cell_type": "markdown",
   "metadata": {},
   "source": [
    "---\n",
    "\n",
    "## 2. Data Wrangler"
   ]
  },
  {
   "cell_type": "markdown",
   "metadata": {},
   "source": [
    "##### Double Click to Edit This Cell to link in your exported SageMaker Data Flow notebook, with all cells executed.\n",
    "\n",
    "# Link to Dry Beans Flow notebook\n",
    "\n",
    "[Dry-Beans-Flow-lcmhng](DryBeans_Flow_lcmhng.ipynb)"
   ]
  },
  {
   "cell_type": "markdown",
   "metadata": {},
   "source": [
    "---\n",
    "\n",
    "## 3. Data Bias Exploration"
   ]
  },
  {
   "cell_type": "markdown",
   "metadata": {},
   "source": [
    "##### Double Click to Edit This Cell to link in images, screen scrapes, and notebooks that highlight your exploration.\n",
    "\n",
    "# <font color=red>See Below</font>"
   ]
  },
  {
   "cell_type": "markdown",
   "metadata": {},
   "source": [
    "---\n",
    "\n",
    "## 4. ML Model Training"
   ]
  },
  {
   "cell_type": "markdown",
   "metadata": {},
   "source": [
    "##### Double Click to Edit This Cell to link in a SageMaker notebook that has been executed with the training of initial evaluation (Train/Test) of a Machine Learning model that is appropriate for the data you used before.\n",
    "\n",
    "# <font color=red>See Below</font>"
   ]
  },
  {
   "cell_type": "markdown",
   "metadata": {},
   "source": [
    "---\n",
    "\n",
    "## 5. ML Fairness Measurement"
   ]
  },
  {
   "cell_type": "markdown",
   "metadata": {},
   "source": [
    "##### Double Click to Edit This Cell to link in a SageMaker notebook that has been executed that explores the fairness of the deployed model.\n",
    "\n",
    "[link to final notebook](Sagemaker-Project-lcmhng.ipynb)"
   ]
  },
  {
   "cell_type": "markdown",
   "metadata": {},
   "source": [
    "---\n",
    "\n",
    "# Save your Notebook and commit the Notebook and artifacts for Grading\n",
    "\n",
    "---\n",
    "\n",
    "## Submitting your work\n",
    "\n",
    "### <span style='background:lightblue'>Please be sure the artifacts for the entire project is added into your repository for the commit and push!</span>\n",
    "\n",
    "#### Steps:\n",
    "  1. Open Terminal in JupyterHub\n",
    "  1. Change into the course folder\n",
    "  1. Stage (Git Add) the module's learning activities   \n",
    "  `git  add   module8`\n",
    "  1. Create your work snapshot (Git Commit)  \n",
    "  `git   commit   -m   \"Module 8 submission\"`\n",
    "  1. Upload the snapshot to the server (Git Push)  \n",
    "  `git   push`"
   ]
  }
 ],
 "metadata": {
  "kernelspec": {
   "display_name": "Python 3",
   "language": "python",
   "name": "python3"
  },
  "language_info": {
   "codemirror_mode": {
    "name": "ipython",
    "version": 3
   },
   "file_extension": ".py",
   "mimetype": "text/x-python",
   "name": "python",
   "nbconvert_exporter": "python",
   "pygments_lexer": "ipython3",
   "version": "3.7.3"
  }
 },
 "nbformat": 4,
 "nbformat_minor": 2
}
