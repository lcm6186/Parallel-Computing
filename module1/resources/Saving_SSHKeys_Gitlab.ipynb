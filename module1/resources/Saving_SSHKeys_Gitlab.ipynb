{
 "cells": [
  {
   "cell_type": "markdown",
   "metadata": {},
   "source": [
    "# How to Save new SSH Keys into Gitlab\n",
    "\n",
    "## Reference Links\n",
    " * [Basics of SSH Key Gen](https://www.ssh.com/academy/ssh/keygen)\n",
    " * [Basics of SSH Keys and Gitlab](https://docs.gitlab.com/ee/ssh/)\n",
    " * [Getting Started with MU Virtual Private Network (VPN) for Access to Protected Systems](https://doit.missouri.edu/services/internet-network/virtual-private-networking/#:~:text=If%20you%20need%20to%20download,Catalog%2C%20and%20search%20for%20VPN)\n"
   ]
  },
  {
   "cell_type": "markdown",
   "metadata": {},
   "source": [
    "# Step 1: Generate the SSH Key on the system you want to connect to Gitlab\n",
    "\n",
    "# Step 2: Login to https://Git.dsa.missouri.edu using your MU SSO credentials"
   ]
  },
  {
   "cell_type": "markdown",
   "metadata": {},
   "source": [
    "# Step 3: Save the Public Key into your Settings\n",
    "\n",
    "![Gitlab_Settings.png Missing](./Gitlab_Settings.png)"
   ]
  },
  {
   "cell_type": "markdown",
   "metadata": {},
   "source": [
    "![Gitlab_Settings_sshkey_1.png Missing](./Gitlab_Settings_sshkey_1.png)"
   ]
  },
  {
   "cell_type": "markdown",
   "metadata": {},
   "source": [
    "![Gitlab_Settings_sshkey_2.png Missing](./Gitlab_Settings_sshkey_2.png)"
   ]
  },
  {
   "cell_type": "markdown",
   "metadata": {},
   "source": [
    "---"
   ]
  }
 ],
 "metadata": {
  "kernelspec": {
   "display_name": "Python 3",
   "language": "python",
   "name": "python3"
  },
  "language_info": {
   "codemirror_mode": {
    "name": "ipython",
    "version": 3
   },
   "file_extension": ".py",
   "mimetype": "text/x-python",
   "name": "python",
   "nbconvert_exporter": "python",
   "pygments_lexer": "ipython3",
   "version": "3.7.3"
  }
 },
 "nbformat": 4,
 "nbformat_minor": 2
}
