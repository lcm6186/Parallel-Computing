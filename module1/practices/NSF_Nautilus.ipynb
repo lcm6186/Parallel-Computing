{
 "cells": [
  {
   "cell_type": "markdown",
   "metadata": {},
   "source": [
    "# Using the National Science Foundation Nautilus Cluster"
   ]
  },
  {
   "cell_type": "markdown",
   "metadata": {},
   "source": [
    "\n",
    "The Nautilus cluster is officially the NSF National Research Platform. This is the preimenent super cluster for scientific computing and research data science.\n",
    "It is a grid of kubernetes clusters.\n",
    "\n",
    "For this practice, you will log in and set up your access to both a Mizzou Jupyter Hub instance on Nautilus and the cluster directly.\n"
   ]
  },
  {
   "cell_type": "markdown",
   "metadata": {},
   "source": [
    "---\n",
    "\n",
    "## Part A: Mizzou Jupyter Hub on Nautilus\n",
    "\n",
    "The Mizzou Jupyter Hub instance on Nautilus is located at:\n",
    "\n",
    "https://mizzou.nrp-nautilus.io/\n",
    "\n",
    "\n"
   ]
  },
  {
   "cell_type": "markdown",
   "metadata": {},
   "source": [
    "### Step 1: Access the URL above\n",
    "\n",
    "![Step 1](../images/Nautilus_JH_login_1.JPG)\n",
    "\n"
   ]
  },
  {
   "cell_type": "markdown",
   "metadata": {},
   "source": [
    "### Step 2: Choose University of Missouri as the CI Authenticator (Identity Provider)\n",
    "\n",
    "You will have to log into the system by selecting to use CILogin (Cyberinfrastructure Login)\n",
    "\n",
    "![Step 2](../images/Nautilus_cilogon_selector_screen.png)\n",
    "\n",
    "\n"
   ]
  },
  {
   "cell_type": "markdown",
   "metadata": {},
   "source": [
    "### Step 3: Authenticate with your regular University of Missouri credentials (SSO)\n",
    "\n",
    "\n",
    "![Step 3](../images/Nautilus_JH_login_3.JPG)\n",
    "\n",
    "\n"
   ]
  },
  {
   "cell_type": "markdown",
   "metadata": {},
   "source": [
    "### Step 4: You should see a spawner page similar to this.\n",
    "\n",
    "![Step 4](../images/Nautilus_JH_login_4.JPG)\n",
    "\n"
   ]
  },
  {
   "cell_type": "markdown",
   "metadata": {},
   "source": [
    "### Step 5: Logged in - The Jupyter Lab view\n",
    "\n",
    "![Step 5](../images/Nautilus_cilogon_selector_screen.png)\n"
   ]
  },
  {
   "cell_type": "code",
   "execution_count": null,
   "metadata": {},
   "outputs": [],
   "source": []
  },
  {
   "cell_type": "markdown",
   "metadata": {},
   "source": [
    "### Step 6: Create an SSH Key to store on the DSA Gitlab Server\n",
    " * [SSH KeyGen](https://www.ssh.com/academy/ssh/keygen)\n",
    "\n",
    "#### Steps:\n",
    " 1. Open Terminal\n",
    " 2. `ssh-keygen -t rsa`\n",
    " 3. Copy output from `~/.ssh/id_rsa.pub` up to your profile on https://git.dsa.missouri.edu\n",
    "\n",
    "The result of the SSH Key Gen command will look similar to below:\n",
    "```BASH\n",
    "jovyan@jupyter-scottgs-40missouri-2eedu:~$ ssh-keygen -t rsa\n",
    "Generating public/private rsa key pair.\n",
    "Enter file in which to save the key (/home/jovyan/.ssh/id_rsa): \n",
    "/home/jovyan/.ssh/id_rsa already exists.\n",
    "Enter passphrase (empty for no passphrase): \n",
    "Enter same passphrase again: \n",
    "Your identification has been saved in /home/jovyan/.ssh/id_rsa\n",
    "Your public key has been saved in /home/jovyan/.ssh/id_rsa.pub\n",
    "The key fingerprint is:\n",
    "SHA256:stRvLKYehWCE6ET4mi8KBkuRojK/CJYKFLxlcUJxUhc jovyan@jupyter-scottgs-40missouri-2eedu\n",
    "The key's randomart image is:\n",
    "+---[RSA 3072]----+\n",
    "|oo.B++ E.        |\n",
    "|+.o.* .          |\n",
    "|+* oo            |\n",
    "|o.B. . o         |\n",
    "|=*    + S        |\n",
    "|B+.  . + o       |\n",
    "|==.   o o +      |\n",
    "|O...   + o       |\n",
    "|=..  .o          |\n",
    "+----[SHA256]-----+\n",
    "jovyan@jupyter-scottgs-40missouri-2eedu:~$ \n",
    "```\n"
   ]
  },
  {
   "cell_type": "markdown",
   "metadata": {},
   "source": [
    "  4. Show your public key using `cat ~/.ssh/id_rsa.pub`, then copy and paste into the RAW cell below and save as a SSH key in your DSA Gitlab profile.\n",
    "   * **Please note**: You will need to use the [MU VPN](https://doit.missouri.edu/services/internet-network/virtual-private-networking/) to have a secure connection to access the DSA Gitlab instance web interface.\n",
    "   * Recall from Dr. Shaji Kahn in Big Data Security, <span style='background:yellow'>Do Not EVER share your **PRIVATE** key!</span>\n",
    "   * [Here is a help page for saving your Public Key into Gitlab](../resources/Saving_SSHKeys_Gitlab.ipynb)\n",
    "  "
   ]
  },
  {
   "cell_type": "raw",
   "metadata": {},
   "source": [
    "# Paste your PUBLIC key below this line as part of the module artifact submission.  \n",
    "\n",
    "\n",
    "ssh-rsa AAAAB3NzaC1yc2EAAAADAQABAAABgQDdE9xc9QQxaB1ALeUhyUPVWkC/wuuDJSbUm/+qkBOCaT33JdB1pJUJimmdmelaVYfEBGY07pL2g1tkGRXzueg0ssplhzD5ovdgKtHp73pw3gBiQLLWpABpo+cAroW1vIGMcEE+pd2e35t+qbi60Sanj00Abs8paXBaw3ppRggUhvGMjUflj+/1UrHWkWaMzWtK3BHy6Ns/QwdU2W+ht21oMeWI0qrpVIEgPdGtrpNaUNg/nhEXXEReIa6iOQ8T23Ai//1pJKHwvkNpDfnyEkdDr4RB3D9/aUqRnZhgLDVRvbVryUp+xpVO+47ie5SqTcSnlayEBWxM02XH7qIAQotKfpY0S8l1ctfQNe8FHBZJyuFH+lsVnOIndsl1vBxCTsWorhmfXR0fl0EEXofupvVDEA6V+dzFHIbxVxX/9u6+E33ixfdgXkF54abMuBYCdEIoafKi1giZBZDuYVvJjOQBFR7jzHDaOhETmpezBHwO4WNUsGaaBOli6A1xQzbpyrs= jovyan@jupyter-lcmhng-40mail-2eumsl-2eedu\n",
    "\n"
   ]
  },
  {
   "cell_type": "markdown",
   "metadata": {},
   "source": [
    "---\n",
    "\n",
    "## Part B: Direct Cluster Access Nautilus\n",
    "\n",
    "### Steps\n",
    " 1. Follow the getting started through Step 5: https://ucsd-prp.gitlab.io/userdocs/start/get-access/\n",
    " 2. After step 5, post your MU SSO to this Slack thread so Chenhan can pull your account into the Mizzou namespace: https://datagoggles.slack.com/archives/C02RU15UXGS/p1640271070001300?thread_ts=1640271042.001200&cid=C02RU15UXGS \n",
    " 3. Capture a Screen Shot similar to below and link it into this Jupyter Page to show your ID and namespaces"
   ]
  },
  {
   "cell_type": "markdown",
   "metadata": {},
   "source": [
    "### Example Artifact\n",
    "![SAMPLE Nautilus Cluster Artifact](../images/Nautilus_Cluster_ConfirmUser_Namespaces.JPG)\n",
    "\n"
   ]
  },
  {
   "cell_type": "markdown",
   "metadata": {},
   "source": [
    "### Submission Artifact\n",
    " * Capture a screen snip of your login to the Nautilus system.\n",
    " * Navigation after login, \"Manage Namespaces\" or https://nautilus.optiputer.net/profileN\n",
    " * We are looking for you to have the `gpn-mizzou-dsa` namespace.\n",
    "![YOUR SSO.JPG Artifact Still Needs Uploaded to module1/practices/ folder](SSO.JPG)\n",
    "\n",
    "---\n",
    "\n",
    "# Make sure you save this notebook, as well as use `git add` to ensure your SSO.JPG image is in your commit."
   ]
  },
  {
   "cell_type": "code",
   "execution_count": null,
   "metadata": {},
   "outputs": [],
   "source": []
  }
 ],
 "metadata": {
  "kernelspec": {
   "display_name": "Python 3",
   "language": "python",
   "name": "python3"
  },
  "language_info": {
   "codemirror_mode": {
    "name": "ipython",
    "version": 3
   },
   "file_extension": ".py",
   "mimetype": "text/x-python",
   "name": "python",
   "nbconvert_exporter": "python",
   "pygments_lexer": "ipython3",
   "version": "3.7.3"
  }
 },
 "nbformat": 4,
 "nbformat_minor": 2
}
