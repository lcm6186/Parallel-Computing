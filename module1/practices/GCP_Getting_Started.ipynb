{
 "cells": [
  {
   "cell_type": "markdown",
   "metadata": {},
   "source": [
    "# Using the Google Cloud Platform (GCP)"
   ]
  },
  {
   "cell_type": "markdown",
   "metadata": {},
   "source": [
    "### CGP Accounts\n",
    "\n",
    "The <span style='background:yellow'>first step</span> is to synchronize your MU credentials with Google.\n",
    "\n",
    "Navigate to  https://console.cloud.google.com/ and login with your <span style='background:yellow'>pawprint@umsystem.edu</span>;  \n",
    "which uses the MU single sign-on credentials (same as email).\n",
    "\n",
    "<span style='background:yellow'>Once you have done this, please message TA-Anes on Slack to let him know so we can add you into the DSA Billing Project.</span>\n",
    "He will let you know when you have access to proceed and the name of the billing project."
   ]
  },
  {
   "cell_type": "markdown",
   "metadata": {},
   "source": [
    "---\n",
    "\n",
    "#### While you wait for TA-Anes to get you added into the Billing Project --> Some Reading\n",
    "\n",
    "### Basics of GCP Infrastructure - Review for students from DSA 8420\n",
    "  * [GCP Overview](https://cloud.google.com/docs/overview/)"
   ]
  },
  {
   "cell_type": "markdown",
   "metadata": {},
   "source": [
    "---\n",
    "\n",
    "#### Once TA-Anes has you added into the Billing Project\n",
    "\n",
    "### Initial GCP Login\n",
    "\n",
    "Once you get confirmation that you have been added to the GCP project, \n",
    "log into https://console.cloud.google.com/ with your MU credentials.\n",
    "\n",
    "\n",
    "![GCP_Login_Console.png MISSING](../images/GCP_Login_Console.png)"
   ]
  },
  {
   "cell_type": "markdown",
   "metadata": {},
   "source": [
    "### Submission Artifact\n",
    " * Capture a screen snip of your login to the GCP Console system.\n",
    " * Ensure that you have the following settings in your console for **Project info**\n",
    "   1. Project name : UMC DSA 8430 SP2022\n",
    "   2. Project ID : umc-dsa-8430-sp2022\n",
    " * Name your screen snip `GCP.JPG`\n",
    "![YOUR GCP.JPG Artifact Still Needs Uploaded to module1/practices/ folder](GCP.JPG)\n",
    "\n",
    "---\n",
    "\n",
    "# Make sure you save this notebook, as well as use `git add` to ensure your GCP.JPG image is in your commit."
   ]
  },
  {
   "cell_type": "code",
   "execution_count": null,
   "metadata": {},
   "outputs": [],
   "source": []
  }
 ],
 "metadata": {
  "kernelspec": {
   "display_name": "Python 3",
   "language": "python",
   "name": "python3"
  },
  "language_info": {
   "codemirror_mode": {
    "name": "ipython",
    "version": 3
   },
   "file_extension": ".py",
   "mimetype": "text/x-python",
   "name": "python",
   "nbconvert_exporter": "python",
   "pygments_lexer": "ipython3",
   "version": "3.7.3"
  }
 },
 "nbformat": 4,
 "nbformat_minor": 2
}
