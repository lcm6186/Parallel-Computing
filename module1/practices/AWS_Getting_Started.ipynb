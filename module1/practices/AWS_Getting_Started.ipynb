{
 "cells": [
  {
   "cell_type": "markdown",
   "metadata": {},
   "source": [
    "# Using the Amazon Web Services (AWS) Cloud Platform\n",
    "\n",
    "For AWS, we maintain Identity and Access Management (IAM) account for the course.\n",
    "\n",
    "#### You should all have recieved an email to start the course with your individual credentials and the instructions to update your password.\n",
    "\n",
    "## Console Login\n",
    "https://714861692883.signin.aws.amazon.com/console\n",
    "\n",
    "\n",
    "### Prefix Name resources with your SSO ID.  \n",
    "\n",
    "If you took the DSA Cloud Computing course, you are familiar with the concept of name collision and the need for using your SSO id to mark your cloud resources in our shared workspace.\n",
    "* E.g., a storage bucket might be named `scottgs-my-first-bucket`,\n",
    " * where `scottgs` is my MU SSO ID.  This must be down for all resources you create in AWS for the class.\n"
   ]
  },
  {
   "cell_type": "markdown",
   "metadata": {},
   "source": [
    "## Practice\n",
    "\n",
    "In this practice, you will create a AWS data storage bucket for later course activities.  \n",
    "The bucket naming convention is: **_SSO_-8430-bucket**\n",
    "\n",
    "#### If you did not take the DSA Cloud Computing class, please read about AWS S3 Buckets [here](https://docs.aws.amazon.com/AmazonS3/latest/userguide/Welcome.html).\n",
    "\n",
    "![AWS_First_Bucket.png MISSING](../images/AWS_First_Bucket.png)"
   ]
  },
  {
   "cell_type": "markdown",
   "metadata": {},
   "source": [
    "### The other constraints are as follows:\n",
    "* AWS Region: US East (Ohio)\n",
    "* ACLs disabled\n",
    "* Block _all_ public access\n",
    "* Bucket Versiong **Disabled**\n",
    "* Bucket Encryption **Disabled**"
   ]
  },
  {
   "cell_type": "markdown",
   "metadata": {},
   "source": [
    "---\n",
    "\n",
    "### Capture a Screen Snip of the Created Bucket in the Console\n",
    "\n",
    "**Name the screen snip** `AWS.JPG`\n",
    "\n",
    "![AWS_First_Bucket_in_list.png MISSING](../images/AWS_First_Bucket_in_list.png)"
   ]
  },
  {
   "cell_type": "markdown",
   "metadata": {},
   "source": [
    "### Submission Artifact\n",
    " * Capture a screen snip of AWS Console, S3 Buckets.\n",
    " * Ensure that you have the following captured\n",
    "   1. Bucket Name \n",
    "   2. AWS Region \n",
    "   3. Access\n",
    "   4. Creation Date\n",
    " * Name your screen snip `AWS.JPG`\n",
    "![YOUR AWS.JPG Artifact Still Needs Uploaded to module1/practices/ folder](AWS.JPG)\n",
    "\n",
    "---\n",
    "\n",
    "# Make sure you save this notebook, as well as use `git add` to ensure your AWS.JPG image is in your commit."
   ]
  },
  {
   "cell_type": "code",
   "execution_count": null,
   "metadata": {},
   "outputs": [],
   "source": []
  }
 ],
 "metadata": {
  "kernelspec": {
   "display_name": "Python 3",
   "language": "python",
   "name": "python3"
  },
  "language_info": {
   "codemirror_mode": {
    "name": "ipython",
    "version": 3
   },
   "file_extension": ".py",
   "mimetype": "text/x-python",
   "name": "python",
   "nbconvert_exporter": "python",
   "pygments_lexer": "ipython3",
   "version": "3.7.3"
  }
 },
 "nbformat": 4,
 "nbformat_minor": 2
}
