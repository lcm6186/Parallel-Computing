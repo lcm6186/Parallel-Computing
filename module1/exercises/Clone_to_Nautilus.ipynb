{
 "cells": [
  {
   "cell_type": "markdown",
   "metadata": {},
   "source": [
    "# Cloning onto the Nautilus System"
   ]
  },
  {
   "cell_type": "markdown",
   "metadata": {},
   "source": [
    "In the [practice](../practices/NSF_Nautilus.ipynb) you set up your Nautilus Jupyter Hub connection and created a public key.\n",
    "Additionally, you stored that public key into the [DSA Gitlab system](https://git.dsa.missouri.edu)\n",
    "\n",
    "In this exercise, you will build upon that to manually clone the repository from DSA systems into Nautilus."
   ]
  },
  {
   "cell_type": "markdown",
   "metadata": {},
   "source": [
    "# Part A:  Login to Nautilus JH\n",
    "\n",
    "The Mizzou Jupyter Hub instance on Nautilus is located at:\n",
    "\n",
    "https://mizzou.nrp-nautilus.io/\n",
    "\n"
   ]
  },
  {
   "cell_type": "markdown",
   "metadata": {},
   "source": [
    "\n",
    "# Part B:  Login to DSA Gitlab\n",
    "\n",
    "The Mizzou DSA Gitlab instance is located at:\n",
    "\n",
    "https://git.dsa.missouri.edu/"
   ]
  },
  {
   "cell_type": "markdown",
   "metadata": {},
   "source": [
    "# Part C: Navigate to your course project in Mizzou Gitlab, get Clone link\n",
    "\n",
    "![Gitlab_Clone_Link.png MISSING](../images/Gitlab_Clone_Link.png)"
   ]
  },
  {
   "cell_type": "markdown",
   "metadata": {},
   "source": [
    "# Part D: Within Nautilus JH, Clone down the repository\n",
    "\n",
    "Within the Nautilus system, spawn a terminal and clone the repository onto that system.  Write the command in the cell below, then copy and paste (and edit) to get the course repository cloned.\n",
    " "
   ]
  },
  {
   "cell_type": "raw",
   "metadata": {},
   "source": [
    "# ###### Artifact ############\n",
    "# Put your clone command below\n",
    "\n",
    "git clone git@git.dsa.missouri.edu:dsa-8430/sp22/s22dsa8430_lcmhng.git"
   ]
  },
  {
   "cell_type": "markdown",
   "metadata": {},
   "source": [
    "#### Note: If you get a warning / error such as this:\n",
    "\n",
    "```BASH\n",
    "@@@@@@@@@@@@@@@@@@@@@@@@@@@@@@@@@@@@@@@@@@@@@@@@@@@@@@@@@@@\n",
    "@         WARNING: UNPROTECTED PRIVATE KEY FILE!          @\n",
    "@@@@@@@@@@@@@@@@@@@@@@@@@@@@@@@@@@@@@@@@@@@@@@@@@@@@@@@@@@@\n",
    "Permissions 0660 for '/home/jovyan/.ssh/id_rsa' are too open.\n",
    "It is required that your private key files are NOT accessible by others.\n",
    "This private key will be ignored.\n",
    "Load key \"/home/jovyan/.ssh/id_rsa\": bad permissions\n",
    "git@curate.dsa.missouri.edu: Permission denied (publickey,gssapi-keyex,gssapi-with-mic).\n",
    "fatal: Could not read from remote repository.\n",
    "\n",
    "Please make sure you have the correct access rights\n",
    "and the repository exists.\n",
    "```\n",
    "\n",
    "Then you need to update the permissions on your private key, using the `chmod` command.  \n",
    "Instead of giving you the exact command, here are some resources to help you:\n",
    "* https://www.computerhope.com/unix/uchmod.htm\n",
    "* https://www.howtogeek.com/437958/how-to-use-the-chmod-command-on-linux/\n",
    "* https://linuxconfig.org/chmod\n"
   ]
  },
  {
   "cell_type": "markdown",
   "metadata": {},
   "source": [
    "# Part E: Create your submission artifact\n",
    "\n",
    "### Submission Artifact\n",
    " * Navigate to the cloned folder and open the `Start_Here.ipynb` for the course.\n",
    " * Capture a screen snip of your browser, including the URL and the Start_Here page.\n",
    " * Name the screen snip `NSF_JH.JPG`\n",
    "![YOUR NSF_JH.JPG Artifact Still Needs Uploaded to module1/exercises/ folder](NSF_JH.JPG)\n",
    "\n",
    "---\n",
    "\n",
    "# Make sure you save this notebook, as well as use `git add` to ensure your NSF_JH.JPG image is in your commit."
   ]
  },
  {
   "cell_type": "code",
   "execution_count": null,
   "metadata": {},
   "outputs": [],
   "source": []
  }
 ],
 "metadata": {
  "kernelspec": {
   "display_name": "Python 3",
   "language": "python",
   "name": "python3"
  },
  "language_info": {
   "codemirror_mode": {
    "name": "ipython",
    "version": 3
   },
   "file_extension": ".py",
   "mimetype": "text/x-python",
   "name": "python",
   "nbconvert_exporter": "python",
   "pygments_lexer": "ipython3",
   "version": "3.7.3"
  }
 },
 "nbformat": 4,
 "nbformat_minor": 2
}
