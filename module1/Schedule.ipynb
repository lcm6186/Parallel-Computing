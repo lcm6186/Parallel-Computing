{
 "cells": [
  {
   "cell_type": "markdown",
   "metadata": {},
   "source": [
    "# Module 1 Introduction to Parallel Computing Architectures\n",
    "\n",
    "In this module we will establish some foundational vocabulary for parallel and distributed computing.\n",
    "\n",
    "We are also going to spend some time and effort to ensure our computing enviornments are set up for future modules.\n",
    "This includes using the \n",
    " * NSF National Research Platform (NRP), aka Nautilus Cluster\n",
    " * AWS\n",
    " * GCP\n"
   ]
  },
  {
   "cell_type": "markdown",
   "metadata": {},
   "source": [
    "## Readings\n",
    "\n",
    "  * [Basic Parallel Computing Terminology](./resources/Parallel_Computing_Definitions.pdf)\n",
    "\n"
   ]
  },
  {
   "cell_type": "markdown",
   "metadata": {},
   "source": [
    "## Videos\n",
    "\n",
    "* [Course Introduction to Parallel and Distributed Computing](https://youtu.be/C0dAwOovtCs)\n",
    "  * [Slides](./resources/DSA8430_CourseWelcome_2022.pdf)\n",
    "* [Basic Parallel and Distributed Computing Concepts](https://youtu.be/ifCuWIlITPM)\n",
    "  * [Slides](./resources/DSA8430_ParallelDistributed_Computing_Overview.pdf)\n"
   ]
  },
  {
   "cell_type": "markdown",
   "metadata": {},
   "source": [
    "## Setup (Practices)\n",
    "\n",
    "For this course, we will be working on a variety of distributed systems (Clusters, grids, clouds).\n",
    "Your \"practices\" for the week are to get logged into each of the three remote environments.\n",
    "In each of the practices, you will bring an artifact of your system access into the practice notebook, such as a screen shot, for module points.\n",
    "\n",
    "* [Accessing the NSF Nautilus Cluster](./practices/NSF_Nautilus.ipynb)\n",
    "* [Setting up your AWS Account](./practices/AWS_Getting_Started.ipynb)\n",
    "* [Setting up your GCP Account](./practices/GCP_Getting_Started.ipynb)\n"
   ]
  },
  {
   "cell_type": "markdown",
   "metadata": {},
   "source": [
    "## Excercises\n",
    "* [Cloning Course Repository to NSF Nautilus Cluster](./exercises/Clone_to_Nautilus.ipynb)\n",
    "\n",
    " "
   ]
  },
  {
   "cell_type": "markdown",
   "metadata": {},
   "source": [
    "## Submitting your work\n",
    "\n",
    "### <span style='background:yellow'>Please be sure the artifacts from all practices and exercises are added into your repository for the commit and push!</span>\n",
    "\n",
    "#### Steps:\n",
    "  1. Open Terminal in JupyterHub\n",
    "  1. Change into the course folder\n",
    "  1. Stage (Git Add) the module's learning activities   \n",
    "  `git  add   module1`\n",
    "  1. Create your work snapshot (Git Commit)  \n",
    "  `git   commit   -m   \"Module 1 submission\"`\n",
    "  1. Upload the snapshot to the server (Git Push)  \n",
    "  `git   push`"
   ]
  }
 ],
 "metadata": {
  "kernelspec": {
   "display_name": "Python 3",
   "language": "python",
   "name": "python3"
  },
  "language_info": {
   "codemirror_mode": {
    "name": "ipython",
    "version": 3
   },
   "file_extension": ".py",
   "mimetype": "text/x-python",
   "name": "python",
   "nbconvert_exporter": "python",
   "pygments_lexer": "ipython3",
   "version": "3.7.3"
  }
 },
 "nbformat": 4,
 "nbformat_minor": 2
}
