{
 "cells": [
  {
   "cell_type": "markdown",
   "metadata": {},
   "source": [
    "# Module 7 AWS SageMaker \n",
    "\n",
    "Topics:\n",
    " * AWS SageMaker\n",
    " * SageMaker Notebooks\n",
    " * SageMaker Studio\n",
    " * SageMaker Debugger\n",
    " * SageMaker Data Wrangler\n",
    " \n",
    "#### Module Kickoff Video\n",
    "* [AWS SageMaker and Final Project Preview (13 min)](https://youtu.be/J1EFahOz-Bs)\n",
    " * [Slides](./resources/DSA8430_Parallel_SageMaker.pdf)\n",
    " \n",
    " \n",
    "\n",
    "### What is SageMaker?\n",
    "\n",
    "From the documentation:\n",
    "> Amazon SageMaker is a fully managed machine learning service. With SageMaker, data scientists and developers can quickly and easily build and train machine learning models, and then directly deploy them into a production-ready hosted environment. It provides an integrated Jupyter authoring notebook instance for easy access to your data sources for exploration and analysis, so you don't have to manage servers. It also provides common machine learning algorithms that are optimized to run efficiently against extremely large data in a distributed environment.\n",
    "\n",
    "https://docs.aws.amazon.com/sagemaker/latest/dg/whatis.html\n",
    "\n"
   ]
  },
  {
   "cell_type": "markdown",
   "metadata": {},
   "source": [
    "## Videos\n",
    "\n",
    "* [Introduction to AWS SageMaker (5-min)](https://youtu.be/Qv_Tr_BCFCQ)\n",
    "* [Build, Train and Deploy Machine Learning Models on AWS with Amazon SageMaker - AWS Online Tech Talks (35-min)](https://youtu.be/R0vC31OXt-g)\n",
    "\n"
   ]
  },
  {
   "cell_type": "markdown",
   "metadata": {},
   "source": [
    "## Readings\n",
    "* [How Amazon SageMaker Works](https://docs.aws.amazon.com/sagemaker/latest/dg/whatis.html#how-it-works)\n",
    "  * [Machine Learning with Amazon SageMaker](https://docs.aws.amazon.com/sagemaker/latest/dg/how-it-works-mlconcepts.html)\n",
    "  * [Explore, Analyze, and Process Data](https://docs.aws.amazon.com/sagemaker/latest/dg/how-it-works-notebooks-instances.html)\n",
    "  * [Train a Model with Amazon SageMaker](https://docs.aws.amazon.com/sagemaker/latest/dg/how-it-works-training.html)\n",
    "  * [Deploy a Model in Amazon SageMaker](https://docs.aws.amazon.com/sagemaker/latest/dg/how-it-works-deployment.html)\n",
    "  * [Use Machine Learning Frameworks, Python, and R with Amazon SageMaker](https://docs.aws.amazon.com/sagemaker/latest/dg/frameworks.html)\n",
    "  \n",
    "\n",
    "##### Do not dive down the \"Get Started with Amazon SageMaker\" rabbit hole.\n",
    "We will sub-select tutorials and next steps in the Lab/Practice phase of the module.\n"
   ]
  },
  {
   "cell_type": "markdown",
   "metadata": {},
   "source": [
    "### Reference Material \n",
    "#### [Full Documentation PDF](https://docs.aws.amazon.com/sagemaker/latest/dg/sagemaker-dg.pdf)\n",
    "\n",
    "\n",
    "---\n"
   ]
  },
  {
   "cell_type": "markdown",
   "metadata": {},
   "source": [
    "## Important Notes\n",
    "\n",
    "SageMaker requires a wealth of permissions to access all the appropriate AWS resources.\n",
    "Specifically, the configurations we are using requires __YOU__ to include \"sagemaker\" in the name of all your S3 resources (buckets, objects, etc).\n",
    "To ensure you are in your own driving lane on buckets and resources, you will also need to ensure your buckets start with your SSO prefix.\n",
    "So, S3 bucket name prefix for this module is __*SSO_sagemaker_*__."
   ]
  },
  {
   "cell_type": "markdown",
   "metadata": {},
   "source": [
    "## Labs\n",
    "\n",
    "Various labs and practice activities will leverage the expansive [Amazon SageMaker Examples repository](https://github.com/aws/amazon-sagemaker-examples).\n",
    "\n",
    "### L1. SageMaker Basics\n",
    "\n",
    "Source Material Reference:\n",
    "\n",
    "Create a SageMaker domain, _SSO-sagemaker_.  Use the Quick Setup\n",
    "![AWS_SageMaker_Domain.png MISSING](./images/AWS_SageMaker_Domain.png)\n",
    " * **Choose the VPC as shown below:**\n",
    " ![AWS_SageMaker_Domain_VPC.png MISSING](./images/AWS_SageMaker_Domain_VPC.png)\n",
    " "
   ]
  },
  {
   "cell_type": "markdown",
   "metadata": {},
   "source": [
    "---\n",
    "\n",
    "### L2.  Follow this Tutorial: https://docs.aws.amazon.com/sagemaker/latest/dg/gs-console.html\n",
    " * Read down to the **Tutorial Overview** then get started with steps 1-7.\n",
    " * For instance name, use __SSO-sagemaker-lab2__.\n",
    " * For the notebook name, use *Lab_SSO*.\n",
    " \n",
    " \n",
    " * **Step 3**: As you do the tutorial, ensure each code block is its own cell and you are getting the shown expected output.\n",
    " * **Step 3**: Look for areas to customize the code to use SSO prefix, such as\n",
    "```\n",
    "import sagemaker, boto3, os\n",
    "bucket = sagemaker.Session().default_bucket()\n",
    "#prefix = \"demo-sagemaker-xgboost-adult-income-prediction\"\n",
    "# above line specialized to: \n",
    "prefix = \"scottgs-sagemaker-xgboost-adult-income-prediction\"\n",
    "```\n",
    "\n",
    "\n",
    " * **Step 4**: Keep this going in the same notebook as the data prep (step 3).\n",
    " * **Step 5**: Keep this going in the same notebook as the data prep (step 3).\n",
    " * **Step 6**: Keep this going in the same notebook as the data prep (step 3).\n",
    "  * At the end of this step, Save your Notebook. Ensure your name has the Pawprint.\n",
    "  * Download the notebook from the SageMaker studio to your local computer.\n",
    " \n",
    "### Complete Step 7 to clean up the model, endpoints, and notebook instances.\n",
    " * Leave the buckets and logs fornow to ensure we are not messing up other students work."
   ]
  },
  {
   "cell_type": "markdown",
   "metadata": {},
   "source": [
    "#### Lab 1 Artifact: Upload your downloaded SageMaker notebook to the module7/labs/ folder.\n",
    "\n",
    "Ensure this link below opens your notebook for grading.\n",
    "\n",
    "[Lab Notebook](./labs/Lab_lcmhng.ipynb)\n",
    " * Note, you will need to double click this cell and updated the link filename to change \"SSO\" to your actual SSO.\n",
    "\n"
   ]
  },
  {
   "cell_type": "markdown",
   "metadata": {},
   "source": [
    "---\n",
    "\n",
    "### L3.  SageMaker Debugger \n",
    "\n",
    "You have seen the debugger used in the lab above.\n",
    "You will also see it in the practices. For this lab, you will just familiarize your self with the debugger and the possibilities. \n",
    "This will potentially be VERY useful for your final course project!\n",
    "\n",
    "Source Material Reference: https://docs.aws.amazon.com/sagemaker/latest/dg/debugger-tutorial.html\n",
    "\n",
    "1. [Review the Debugger Architecture](https://docs.aws.amazon.com/sagemaker/latest/dg/debugger-how-it-works.html)\n",
    "2. [Review two or three videos](https://docs.aws.amazon.com/sagemaker/latest/dg/debugger-videos.html)\n",
    " * (14-min) Analyze, Detect, and Get Alerted on Problems with Training Runs Using Amazon SageMaker Debugger\n",
    " * (14-min) Debug Models with Amazon SageMaker Debugger in Studio\n",
    " * (Optional 44-min Video) Deep Dive on Amazon SageMaker Debugger and SageMaker Model Monitor\n"
   ]
  },
  {
   "cell_type": "markdown",
   "metadata": {},
   "source": [
    "--- \n",
    "\n",
    "## Practices"
   ]
  },
  {
   "cell_type": "markdown",
   "metadata": {},
   "source": [
    "###  P1. SageMaker Studio Basics\n",
    "\n",
    "#### [Reference this tutorial](https://docs.aws.amazon.com/sagemaker/latest/dg/studio.html)\n",
    "\n",
    "1. To launch the SageMaker Studio, starting console page: https://us-east-1.console.aws.amazon.com/sagemaker/home?region=us-east-1#/\n",
    "2. Click on the SageMaker Domain link on the left.\n",
    "3. Select the domain you created with your name in the Labs.\n",
    "\n",
    "![AWS_SageMaker_Studio_Select.png MISSING](./images/AWS_SageMaker_Studio_Select.png)\n",
    "\n",
    "4. Use the Launch, to launch the Studio\n",
    "\n",
    "![AWS_SageMaker_Studio_Launch.png MISSING](./images/AWS_SageMaker_Studio_Launch.png)\n",
    "\n"
   ]
  },
  {
   "cell_type": "markdown",
   "metadata": {},
   "source": [
    "Read through the tutorial sections noted below:\n",
    " * [Amazon SageMaker Studio UI Overview](https://docs.aws.amazon.com/sagemaker/latest/dg/studio-ui.html)\n",
    " * [Use the Amazon SageMaker Studio Launcher](https://docs.aws.amazon.com/sagemaker/latest/dg/studio-launcher.html)\n",
    " * [Use Amazon SageMaker Studio Notebooks](https://docs.aws.amazon.com/sagemaker/latest/dg/notebooks.html)\n",
    "  * A sub page in of this portion of the tutorial includes: https://docs.aws.amazon.com/sagemaker/latest/dg/gs-studio-end-to-end.html\n",
    "  * <span style='background:yellow; font-weight:700'>As you are reading through the links, one of the activities will have you spawning up</span>\n",
    "![AWS_SageMaker_Studio_XGBoost_Churn.png MISSING](./images/AWS_SageMaker_Studio_XGBoost_Churn.png)\n",
    "  * **For this activity, review the Practice 1 Artifact.**\n",
    " \n",
    " * [Customize Amazon SageMaker Studio](https://docs.aws.amazon.com/sagemaker/latest/dg/studio-customize.html)\n",
    " * [Perform Common Tasks in Amazon SageMaker Studio](https://docs.aws.amazon.com/sagemaker/latest/dg/studio-tasks.html)\n",
    " \n",
    "\n"
   ]
  },
  {
   "cell_type": "markdown",
   "metadata": {},
   "source": [
    "#### Practice 1 Artifact: Upload your downloaded SageMaker notebook to the module7/practices/ folder.\n",
    "\n",
    "In the XGBoost Notebook  \n",
    "`amazon-sagemaker-examples/aws_sagemaker_studio/getting_started/xgboost_customer_churn_studio.ipynb`, you will first need to clear all the Output Cells. Use the `Edit > Clear All Outputs`\n",
    "\n",
    "Work through the notebook, and then download the completed notebook, and then upload for submission and link below.\n",
    "Name your uploaded notebook: `Studio_XGBoost_SSO.ipynb`, replacing SSO with your actual SSO.\n",
    "\n",
    "[Practice Notebook](./practices/Studio_XGBoost_lcmhng.ipynb)\n",
    " * Note, you will need to double click this cell and updated the link filename to change \"SSO\" to your actual SSO.\n"
   ]
  },
  {
   "cell_type": "markdown",
   "metadata": {},
   "source": [
    "---\n",
    "\n",
    "### P2. Data Wrangler\n",
    "\n",
    "\n",
    "Read an overview of Data Wrangler: https://docs.aws.amazon.com/sagemaker/latest/dg/data-wrangler.html\n",
    "\n",
    "For this practice reference, \n",
    "https://docs.aws.amazon.com/sagemaker/latest/dg/data-wrangler-getting-started.html\n",
    "\n",
    "Specifically, we are going to work through the **[Data Wrangler Titanic Dataset Walkthrough](https://docs.aws.amazon.com/sagemaker/latest/dg/data-wrangler-getting-started.html#data-wrangler-getting-started-demo)** tutorial.\n",
    "Name your flow: `Titanic_Flow_SSO`, changing \"SSO\" to your actual SSO.\n",
    " * Due to updates outside of AWS, download [`titanic3.csv`](https://web.dsa.missouri.edu/static/data/titanic3.csv) to use instead of the link to OpenML.org data.\n",
    "\n",
    "\n",
    "When you complete the Data Wrangler, export your data flow into a notebook `Titanic_Flow_SSO.ipynb`.\n",
    " * This is section: **Export to Data Wrangler Job Notebook**\n",
    " * Note, the instructions are a little off. Look for this option `Export To > Amazon S3 (via Jupyter Notebook)`\n",
    "![AWS_SageMaker_Data_Wrangler.png MISSING](./images/AWS_SageMaker_Data_Wrangler.png)\n",
    "\n",
    "\n",
    "Once you have exported it to a notebook, review the notebook as you execute the cells.\n",
    "Once the notebook is completed, save it, download it, and upload it as an artifact.\n",
    " * **Note**: In some cases, you may see an error on a cell\n",
    "```\n",
    "AttributeError: 'NoneType' object has no attribute 'items'\n",
    "```\n",
    " * Just keep moving down the notebook.\n",
    "\n",
    "#### Practice 2 Artifact: Upload your downloaded SageMaker Data Wrangler notebook to the module7/practices/ folder.\n",
    "\n",
    "[Practice Notebook](./practices/Titanic_Flow_lcmhng.ipynb)\n",
    " * Note, you will need to double click this cell and updated the link filename to change \"SSO\" to your actual SSO.\n",
    " \n"
   ]
  },
  {
   "cell_type": "markdown",
   "metadata": {},
   "source": [
    "---\n",
    "\n",
    "### P3. Bias/Fairness Measurements\n",
    "\n",
    "For this practice tutorial, reference: https://docs.aws.amazon.com/sagemaker/latest/dg/clarify-detect-data-bias.html\n",
    "\n",
    "\n",
    "#### Task: [Follow along this Tutorial](https://sagemaker-examples.readthedocs.io/en/latest/sagemaker_processing/fairness_and_explainability/fairness_and_explainability.html#Overview)\n",
    "\n",
    "You will use the code provided, creating a notebook in SageMaker Studio.\n",
    "Name the notebook `Studio_Bias_Evaluation_SSO.ipynb`, replacing SSO with your actual SSO.\n",
    "\n",
    "\n",
    "#### Practice 3 Artifact: Upload your downloaded SageMaker notebook to the module7/practices/ folder.\n",
    "\n",
    "Build the tutorial into a notebook in SageMaker Studio and then download, then upload the completed notebook as `Studio_Bias_Evaluation_SSO.ipynb`, replacing SSO with your actual SSO.\n",
    " * Recall Lab 2, where the code was built into a new notebook. This is a similar activity.\n",
    "\n",
    "[Practice Notebook](./practices/Studio_Bias_Evaluation_lcmhng.ipynb)\n",
    " * Note, you will need to double click this cell and updated the link filename to change \"SSO\" to your actual SSO.\n"
   ]
  },
  {
   "cell_type": "markdown",
   "metadata": {},
   "source": [
    "## Excercises\n",
    "\n",
    "You have done A LOT, Great Job!\n",
    "\n",
    "Their is no exercise for this module.\n",
    "Instead, proceed to [Module 8](../module8/Schedule.ipynb), where you will use AWS SageMaker for the course final project!\n",
    "\n",
    "**But, first submit this work as noted below!**\n",
    "\n",
    " "
   ]
  },
  {
   "cell_type": "markdown",
   "metadata": {},
   "source": [
    "## Submitting your work\n",
    "\n",
    "### <span style='background:yellow'>Please be sure the artifacts from all practices and exercises are added into your repository for the commit and push!</span>\n",
    "\n",
    "#### Steps:\n",
    "  1. Open Terminal in JupyterHub\n",
    "  1. Change into the course folder\n",
    "  1. Stage (Git Add) the module's learning activities   \n",
    "  `git  add   module7`\n",
    "  1. Create your work snapshot (Git Commit)  \n",
    "  `git   commit   -m   \"Module 7 submission\"`\n",
    "  1. Upload the snapshot to the server (Git Push)  \n",
    "  `git   push`"
   ]
  }
 ],
 "metadata": {
  "kernelspec": {
   "display_name": "Python 3",
   "language": "python",
   "name": "python3"
  },
  "language_info": {
   "codemirror_mode": {
    "name": "ipython",
    "version": 3
   },
   "file_extension": ".py",
   "mimetype": "text/x-python",
   "name": "python",
   "nbconvert_exporter": "python",
   "pygments_lexer": "ipython3",
   "version": "3.7.3"
  }
 },
 "nbformat": 4,
 "nbformat_minor": 2
}
